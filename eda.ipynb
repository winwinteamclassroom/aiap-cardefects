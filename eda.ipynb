{
 "cells": [
  {
   "attachments": {},
   "cell_type": "markdown",
   "metadata": {},
   "source": [
    "# Problem Statement\n",
    "## Objectives\n",
    "\n",
    "The project objective is to predict the occurrence of car failure using the provided dataset for an automotive\n",
    "company to formulate mitigative policies.The prediction is based on  3 car failure prediction models using datasets for car specification and measured by car sensors.\n",
    "\n"
   ]
  },
  {
   "attachments": {},
   "cell_type": "markdown",
   "metadata": {},
   "source": [
    "### Dataset\n",
    "The dataset contains the specifications of the cars as well as parameters measured by the car sensors."
   ]
  },
  {
   "attachments": {},
   "cell_type": "markdown",
   "metadata": {},
   "source": [
    "| Attribute        | Description                                                                                                                                                                                                                                                                                                                                              |\n",
    "| ---------------- | -------------------------------------------------------------------------------------------------------------------------------------------------------------------------------------------------------------------------------------------------------------------------------------------------------------------------------------------------------- |\n",
    "| Car ID           | Car unique ID                                                                                                                                                                                                                                                                                                                                            |\n",
    "| Model            | Car model 3, 5, and 7 (in the order of increasing specifications)                                                                                                                                                                                                                                                                                        |\n",
    "| Color            | Color of the car                                                                                                                                                                                                                                                                                                                                         |\n",
    "| Temperature      | Average 30 days temperature of the car engine before failure detected                                                                                                                                                                                                                                                                                    |\n",
    "| RPM              | Average 30 days maximum torque speed at maximum torque before failure detected                                                                                                                                                                                                                                                                           |\n",
    "| Factory          | Manufacturing origin of the car                                                                                                                                                                                                                                                                                                                          |\n",
    "| Usage            | Owner usage frequency of the car                                                                                                                                                                                                                                                                                                                         |\n",
    "| Fuel consumption | Fuel consumption of the car in Litre per kilometre                                                                                                                                                                                                                                                                                                       |\n",
    "| Membership       | Type of membership subscripted by the car owner with the automotive company.<br>“Normal” membership offers subscribers two complimentary car servicing per year.<br>“Premium” membership offers subscribers unlimited car servicing.<br>Car owners are automatically subscribed with “Normal” membership<br>for the first five years after car purchase. |\n",
    "| Failure A        | A type of car failure:<br>“0” = Corresponding fault not identified,<br>“1” = Corresponding fault identified                                                                                                                                                                                                                                              |\n",
    "| Failure B        | A type of car failure:<br>“0” = Corresponding fault not identified,<br>“1” = Corresponding fault identified                                                                                                                                                                                                                                              |\n",
    "| Failure C        | A type of car failure:<br>“0” = Corresponding fault not identified,<br>“1” = Corresponding fault identified                                                                                                                                                                                                                                              |\n",
    "| Failure D        | A type of car failure:<br>“0” = Corresponding fault not identified,<br>“1” = Corresponding fault identified                                                                                                                                                                                                                                              |\n",
    "| Failure E        | A type of car failure:<br>“0” = Corresponding fault not identified,<br>“1” = Corresponding fault identified                                                                                                                                                                                                                                              |\n"
   ]
  },
  {
   "cell_type": "code",
   "execution_count": 28,
   "metadata": {},
   "outputs": [],
   "source": [
    "import sqlite3\n",
    "import pandas as pd\n",
    "import matplotlib.pyplot as plt\n",
    "import seaborn as sns\n",
    "import os\n",
    "import numpy as np\n",
    "import sklearn\n",
    "from sklearn.preprocessing import StandardScaler\n",
    "sys.path.append(\"./src\")\n",
    "from main import remove_wrong_city\n",
    "import missingno\n"
   ]
  },
  {
   "cell_type": "code",
   "execution_count": 29,
   "metadata": {},
   "outputs": [],
   "source": [
    "failure_list = [\"Failure A\",\"Failure B\", \"Failure C\", \"Failure D\", \"Failure E\"]\n",
    "numerical_feature = ['RPM', \n",
    "    # 'Failure A', 'Failure B', 'Failure C', 'Failure D', 'Failure E', \n",
    "    'Mod_yy', 'Mod_num', 'Tem_celc', 'Color_num', 'Fac_ctry_num', 'Fac_city_num', \n",
    "    'Usage_num', 'Membership_num', 'Total_fail']\n"
   ]
  },
  {
   "cell_type": "code",
   "execution_count": 30,
   "metadata": {},
   "outputs": [
    {
     "name": "stdout",
     "output_type": "stream",
     "text": [
      "<built-in function getcwdb>\n"
     ]
    },
    {
     "data": {
      "text/html": [
       "<div>\n",
       "<style scoped>\n",
       "    .dataframe tbody tr th:only-of-type {\n",
       "        vertical-align: middle;\n",
       "    }\n",
       "\n",
       "    .dataframe tbody tr th {\n",
       "        vertical-align: top;\n",
       "    }\n",
       "\n",
       "    .dataframe thead th {\n",
       "        text-align: right;\n",
       "    }\n",
       "</style>\n",
       "<table border=\"1\" class=\"dataframe\">\n",
       "  <thead>\n",
       "    <tr style=\"text-align: right;\">\n",
       "      <th></th>\n",
       "      <th>Car ID</th>\n",
       "      <th>Model</th>\n",
       "      <th>Color</th>\n",
       "      <th>Temperature</th>\n",
       "      <th>RPM</th>\n",
       "      <th>Factory</th>\n",
       "      <th>Usage</th>\n",
       "      <th>Fuel consumption</th>\n",
       "      <th>Membership</th>\n",
       "      <th>Failure A</th>\n",
       "      <th>Failure B</th>\n",
       "      <th>Failure C</th>\n",
       "      <th>Failure D</th>\n",
       "      <th>Failure E</th>\n",
       "    </tr>\n",
       "  </thead>\n",
       "  <tbody>\n",
       "    <tr>\n",
       "      <th>0</th>\n",
       "      <td>137b948a-c99f-4afa-a2a7-9ef65ae51e8f</td>\n",
       "      <td>Model 5, 2022</td>\n",
       "      <td>Blue</td>\n",
       "      <td>110.3 °C</td>\n",
       "      <td>1551</td>\n",
       "      <td>Shang Hai, China</td>\n",
       "      <td>Medium</td>\n",
       "      <td>659.7</td>\n",
       "      <td>Normal</td>\n",
       "      <td>0</td>\n",
       "      <td>0</td>\n",
       "      <td>0</td>\n",
       "      <td>0</td>\n",
       "      <td>0</td>\n",
       "    </tr>\n",
       "    <tr>\n",
       "      <th>1</th>\n",
       "      <td>3395a182-7e76-4fb3-94ba-5163d8f4e6b0</td>\n",
       "      <td>Model 3, 2022</td>\n",
       "      <td>Black</td>\n",
       "      <td>110.4 °C</td>\n",
       "      <td>1408</td>\n",
       "      <td>Shang Hai, China</td>\n",
       "      <td>Medium</td>\n",
       "      <td>705.3</td>\n",
       "      <td>Premium</td>\n",
       "      <td>1</td>\n",
       "      <td>0</td>\n",
       "      <td>0</td>\n",
       "      <td>0</td>\n",
       "      <td>0</td>\n",
       "    </tr>\n",
       "    <tr>\n",
       "      <th>2</th>\n",
       "      <td>8c6a8e5b-d869-4665-b739-819c9e4a2070</td>\n",
       "      <td>Model 3, 2022</td>\n",
       "      <td>Grey</td>\n",
       "      <td>110.3 °C</td>\n",
       "      <td>1498</td>\n",
       "      <td>Shang Hai, China</td>\n",
       "      <td>Low</td>\n",
       "      <td>670.7</td>\n",
       "      <td>Premium</td>\n",
       "      <td>0</td>\n",
       "      <td>0</td>\n",
       "      <td>0</td>\n",
       "      <td>0</td>\n",
       "      <td>0</td>\n",
       "    </tr>\n",
       "    <tr>\n",
       "      <th>3</th>\n",
       "      <td>ff864366-fe5e-409e-9b2f-8fe440d8cc5b</td>\n",
       "      <td>Model 3, 2022</td>\n",
       "      <td>Black</td>\n",
       "      <td>110.4 °C</td>\n",
       "      <td>1433</td>\n",
       "      <td>Berlin, Germany</td>\n",
       "      <td>High</td>\n",
       "      <td>630.6</td>\n",
       "      <td>Premium</td>\n",
       "      <td>1</td>\n",
       "      <td>0</td>\n",
       "      <td>0</td>\n",
       "      <td>0</td>\n",
       "      <td>0</td>\n",
       "    </tr>\n",
       "    <tr>\n",
       "      <th>4</th>\n",
       "      <td>10484506-1be0-4a86-8dbc-b8b2092b93b2</td>\n",
       "      <td>Model 3, 2022</td>\n",
       "      <td>White</td>\n",
       "      <td>230.7 °C</td>\n",
       "      <td>1408</td>\n",
       "      <td>New York, U.S</td>\n",
       "      <td>High</td>\n",
       "      <td>660.9</td>\n",
       "      <td>Normal</td>\n",
       "      <td>0</td>\n",
       "      <td>1</td>\n",
       "      <td>0</td>\n",
       "      <td>0</td>\n",
       "      <td>0</td>\n",
       "    </tr>\n",
       "  </tbody>\n",
       "</table>\n",
       "</div>"
      ],
      "text/plain": [
       "                                 Car ID          Model  Color Temperature  \\\n",
       "0  137b948a-c99f-4afa-a2a7-9ef65ae51e8f  Model 5, 2022   Blue    110.3 °C   \n",
       "1  3395a182-7e76-4fb3-94ba-5163d8f4e6b0  Model 3, 2022  Black    110.4 °C   \n",
       "2  8c6a8e5b-d869-4665-b739-819c9e4a2070  Model 3, 2022   Grey    110.3 °C   \n",
       "3  ff864366-fe5e-409e-9b2f-8fe440d8cc5b  Model 3, 2022  Black    110.4 °C   \n",
       "4  10484506-1be0-4a86-8dbc-b8b2092b93b2  Model 3, 2022  White    230.7 °C   \n",
       "\n",
       "    RPM           Factory   Usage  Fuel consumption Membership  Failure A  \\\n",
       "0  1551  Shang Hai, China  Medium             659.7     Normal          0   \n",
       "1  1408  Shang Hai, China  Medium             705.3    Premium          1   \n",
       "2  1498  Shang Hai, China     Low             670.7    Premium          0   \n",
       "3  1433   Berlin, Germany    High             630.6    Premium          1   \n",
       "4  1408     New York, U.S    High             660.9     Normal          0   \n",
       "\n",
       "   Failure B  Failure C  Failure D  Failure E  \n",
       "0          0          0          0          0  \n",
       "1          0          0          0          0  \n",
       "2          0          0          0          0  \n",
       "3          0          0          0          0  \n",
       "4          1          0          0          0  "
      ]
     },
     "execution_count": 30,
     "metadata": {},
     "output_type": "execute_result"
    }
   ],
   "source": [
    "print(os.getcwdb)\n",
    "db_path = \"data/failure.db\"\n",
    "con = sqlite3.connect(db_path)\n",
    "df = pd.read_sql_query('SELECT * from failure', con)\n",
    "df.head()"
   ]
  },
  {
   "attachments": {},
   "cell_type": "markdown",
   "metadata": {},
   "source": [
    "# Data cleaning\n",
    "## We clean rows with duplicated \"Car ID\", data with empty Membership, illogical data such as Negative RPM"
   ]
  },
  {
   "cell_type": "code",
   "execution_count": 31,
   "metadata": {},
   "outputs": [
    {
     "name": "stdout",
     "output_type": "stream",
     "text": [
      "<class 'pandas.core.frame.DataFrame'>\n",
      "RangeIndex: 10081 entries, 0 to 10080\n",
      "Data columns (total 14 columns):\n",
      " #   Column            Non-Null Count  Dtype  \n",
      "---  ------            --------------  -----  \n",
      " 0   Car ID            10081 non-null  object \n",
      " 1   Model             10081 non-null  object \n",
      " 2   Color             10081 non-null  object \n",
      " 3   Temperature       10081 non-null  object \n",
      " 4   RPM               10081 non-null  int64  \n",
      " 5   Factory           10081 non-null  object \n",
      " 6   Usage             10081 non-null  object \n",
      " 7   Fuel consumption  10081 non-null  float64\n",
      " 8   Membership        9697 non-null   object \n",
      " 9   Failure A         10081 non-null  int64  \n",
      " 10  Failure B         10081 non-null  int64  \n",
      " 11  Failure C         10081 non-null  int64  \n",
      " 12  Failure D         10081 non-null  int64  \n",
      " 13  Failure E         10081 non-null  int64  \n",
      "dtypes: float64(1), int64(6), object(7)\n",
      "memory usage: 1.1+ MB\n"
     ]
    }
   ],
   "source": [
    "df.info()"
   ]
  },
  {
   "attachments": {},
   "cell_type": "markdown",
   "metadata": {},
   "source": [
    "We notice there's some missing data in column \"Membership\". \n",
    "We will focus on that after removing duplicated rows."
   ]
  },
  {
   "attachments": {},
   "cell_type": "markdown",
   "metadata": {},
   "source": [
    "## Clean duplicated rows\n",
    "We check for duplicated rows to remove redundant data. The redundant data can lead to wrong statistical finding and low model accuracy. We found 81 rows that are duplicated and removed the respective duplicated rows."
   ]
  },
  {
   "cell_type": "code",
   "execution_count": 32,
   "metadata": {
    "tags": [
     "dupli"
    ]
   },
   "outputs": [
    {
     "data": {
      "text/plain": [
       "81"
      ]
     },
     "execution_count": 32,
     "metadata": {},
     "output_type": "execute_result"
    }
   ],
   "source": [
    "df.duplicated().sum()"
   ]
  },
  {
   "attachments": {},
   "cell_type": "markdown",
   "metadata": {},
   "source": [
    "There's 81 duplicated rows. Since the unqique index should be \"Car ID\", let's focus on duplicated rows and sort them using index \"Car ID\"."
   ]
  },
  {
   "cell_type": "code",
   "execution_count": 33,
   "metadata": {},
   "outputs": [
    {
     "data": {
      "text/html": [
       "<div>\n",
       "<style scoped>\n",
       "    .dataframe tbody tr th:only-of-type {\n",
       "        vertical-align: middle;\n",
       "    }\n",
       "\n",
       "    .dataframe tbody tr th {\n",
       "        vertical-align: top;\n",
       "    }\n",
       "\n",
       "    .dataframe thead th {\n",
       "        text-align: right;\n",
       "    }\n",
       "</style>\n",
       "<table border=\"1\" class=\"dataframe\">\n",
       "  <thead>\n",
       "    <tr style=\"text-align: right;\">\n",
       "      <th></th>\n",
       "      <th>Car ID</th>\n",
       "      <th>Model</th>\n",
       "      <th>Color</th>\n",
       "      <th>Temperature</th>\n",
       "      <th>RPM</th>\n",
       "      <th>Factory</th>\n",
       "      <th>Usage</th>\n",
       "      <th>Fuel consumption</th>\n",
       "      <th>Membership</th>\n",
       "      <th>Failure A</th>\n",
       "      <th>Failure B</th>\n",
       "      <th>Failure C</th>\n",
       "      <th>Failure D</th>\n",
       "      <th>Failure E</th>\n",
       "    </tr>\n",
       "  </thead>\n",
       "  <tbody>\n",
       "    <tr>\n",
       "      <th>10046</th>\n",
       "      <td>05fc6931-1619-4077-976e-26caf0f7ddab</td>\n",
       "      <td>Model 5, 2013</td>\n",
       "      <td>Black</td>\n",
       "      <td>231.1 °F</td>\n",
       "      <td>-1679</td>\n",
       "      <td>New York, U.S</td>\n",
       "      <td>High</td>\n",
       "      <td>697.9</td>\n",
       "      <td>Normal</td>\n",
       "      <td>0</td>\n",
       "      <td>0</td>\n",
       "      <td>0</td>\n",
       "      <td>0</td>\n",
       "      <td>0</td>\n",
       "    </tr>\n",
       "    <tr>\n",
       "      <th>66</th>\n",
       "      <td>05fc6931-1619-4077-976e-26caf0f7ddab</td>\n",
       "      <td>Model 5, 2013</td>\n",
       "      <td>Black</td>\n",
       "      <td>231.1 °F</td>\n",
       "      <td>-1679</td>\n",
       "      <td>New York, U.S</td>\n",
       "      <td>High</td>\n",
       "      <td>697.9</td>\n",
       "      <td>Normal</td>\n",
       "      <td>0</td>\n",
       "      <td>0</td>\n",
       "      <td>0</td>\n",
       "      <td>0</td>\n",
       "      <td>0</td>\n",
       "    </tr>\n",
       "    <tr>\n",
       "      <th>10078</th>\n",
       "      <td>0b9c5542-e343-4b7e-a4c9-aad358dbe993</td>\n",
       "      <td>Model 3, 2019</td>\n",
       "      <td>White</td>\n",
       "      <td>110.6 °C</td>\n",
       "      <td>1529</td>\n",
       "      <td>Shang Hai, China</td>\n",
       "      <td>Low</td>\n",
       "      <td>651.5</td>\n",
       "      <td>Normal</td>\n",
       "      <td>0</td>\n",
       "      <td>0</td>\n",
       "      <td>0</td>\n",
       "      <td>0</td>\n",
       "      <td>0</td>\n",
       "    </tr>\n",
       "    <tr>\n",
       "      <th>98</th>\n",
       "      <td>0b9c5542-e343-4b7e-a4c9-aad358dbe993</td>\n",
       "      <td>Model 3, 2019</td>\n",
       "      <td>White</td>\n",
       "      <td>110.6 °C</td>\n",
       "      <td>1529</td>\n",
       "      <td>Shang Hai, China</td>\n",
       "      <td>Low</td>\n",
       "      <td>651.5</td>\n",
       "      <td>Normal</td>\n",
       "      <td>0</td>\n",
       "      <td>0</td>\n",
       "      <td>0</td>\n",
       "      <td>0</td>\n",
       "      <td>0</td>\n",
       "    </tr>\n",
       "    <tr>\n",
       "      <th>10006</th>\n",
       "      <td>0d510f67-2238-4de0-9ac9-1e5a8e345622</td>\n",
       "      <td>Model 3, 2018</td>\n",
       "      <td>Red</td>\n",
       "      <td>110.7 °C</td>\n",
       "      <td>1512</td>\n",
       "      <td>Berlin, Germany</td>\n",
       "      <td>Low</td>\n",
       "      <td>601.2</td>\n",
       "      <td>Premium</td>\n",
       "      <td>0</td>\n",
       "      <td>0</td>\n",
       "      <td>0</td>\n",
       "      <td>0</td>\n",
       "      <td>0</td>\n",
       "    </tr>\n",
       "  </tbody>\n",
       "</table>\n",
       "</div>"
      ],
      "text/plain": [
       "                                     Car ID          Model  Color Temperature  \\\n",
       "10046  05fc6931-1619-4077-976e-26caf0f7ddab  Model 5, 2013  Black    231.1 °F   \n",
       "66     05fc6931-1619-4077-976e-26caf0f7ddab  Model 5, 2013  Black    231.1 °F   \n",
       "10078  0b9c5542-e343-4b7e-a4c9-aad358dbe993  Model 3, 2019  White    110.6 °C   \n",
       "98     0b9c5542-e343-4b7e-a4c9-aad358dbe993  Model 3, 2019  White    110.6 °C   \n",
       "10006  0d510f67-2238-4de0-9ac9-1e5a8e345622  Model 3, 2018    Red    110.7 °C   \n",
       "\n",
       "        RPM           Factory Usage  Fuel consumption Membership  Failure A  \\\n",
       "10046 -1679     New York, U.S  High             697.9     Normal          0   \n",
       "66    -1679     New York, U.S  High             697.9     Normal          0   \n",
       "10078  1529  Shang Hai, China   Low             651.5     Normal          0   \n",
       "98     1529  Shang Hai, China   Low             651.5     Normal          0   \n",
       "10006  1512   Berlin, Germany   Low             601.2    Premium          0   \n",
       "\n",
       "       Failure B  Failure C  Failure D  Failure E  \n",
       "10046          0          0          0          0  \n",
       "66             0          0          0          0  \n",
       "10078          0          0          0          0  \n",
       "98             0          0          0          0  \n",
       "10006          0          0          0          0  "
      ]
     },
     "metadata": {},
     "output_type": "display_data"
    },
    {
     "name": "stdout",
     "output_type": "stream",
     "text": [
      "num of duplicated rows 162\n"
     ]
    }
   ],
   "source": [
    "df_dup = df[df.duplicated(keep=False)].sort_values([\"Car ID\"],ascending=True)\n",
    "display(df_dup.head())\n",
    "print(f\"num of duplicated rows {len(df_dup)}\")\n",
    "# df_dup.drop_duplicates(keep=\"first\", inplace=True)\n",
    "# display(df_dup.head(2))\n",
    "# assert len(df_dup) == len(df_dup[\"Car ID\"].unique()), f'different lenght {len(df_dup)} != {len(df_dup[\"Car ID\"].unique())}'\n",
    "# display(df_dup[df.isna()]) #why still NA"
   ]
  },
  {
   "attachments": {},
   "cell_type": "markdown",
   "metadata": {},
   "source": [
    "We found that \"Car ID\" \"05fc6931-1619-4077-976e-26caf0f7ddab\" appears twice. We will keep its first appearance and delete its duplicated rows. The same applied for other duplicated \"Car ID\""
   ]
  },
  {
   "cell_type": "code",
   "execution_count": 34,
   "metadata": {},
   "outputs": [
    {
     "name": "stdout",
     "output_type": "stream",
     "text": [
      "Before removing duplicated rows, num of record with Car ID 05fc6931-1619-4077-976e-26caf0f7ddab: 2\n",
      "After removing duplicated rows, num of record with Car ID 05fc6931-1619-4077-976e-26caf0f7ddab: 1\n",
      "There's 0 dupllicated rows left\n"
     ]
    }
   ],
   "source": [
    "car_id = \"05fc6931-1619-4077-976e-26caf0f7ddab\"\n",
    "print(f\"Before removing duplicated rows, num of record with Car ID {car_id}: {len(df[df['Car ID']==car_id])}\")\n",
    "df.drop_duplicates(keep=\"first\", inplace=True)\n",
    "print(f\"After removing duplicated rows, num of record with Car ID {car_id}: {len(df[df['Car ID']==car_id])}\")\n",
    "df_dup = df[df.duplicated(keep=False)].sort_values([\"Car ID\"])\n",
    "print(f\"There's {len(df_dup)} dupllicated rows left\")"
   ]
  },
  {
   "cell_type": "markdown",
   "metadata": {},
   "source": [
    "## Check empty data"
   ]
  },
  {
   "cell_type": "code",
   "execution_count": 35,
   "metadata": {},
   "outputs": [
    {
     "name": "stdout",
     "output_type": "stream",
     "text": [
      "num of empyt cell \n",
      " Car ID                0\n",
      "Model                 0\n",
      "Color                 0\n",
      "Temperature           0\n",
      "RPM                   0\n",
      "Factory               0\n",
      "Usage                 0\n",
      "Fuel consumption      0\n",
      "Membership          383\n",
      "Failure A             0\n",
      "Failure B             0\n",
      "Failure C             0\n",
      "Failure D             0\n",
      "Failure E             0\n",
      "dtype: int64\n"
     ]
    }
   ],
   "source": [
    "print(f\"num of empyt cell \\n {df.isna().sum()}\")"
   ]
  },
  {
   "cell_type": "code",
   "execution_count": 36,
   "metadata": {},
   "outputs": [
    {
     "data": {
      "text/plain": [
       "<AxesSubplot: >"
      ]
     },
     "execution_count": 36,
     "metadata": {},
     "output_type": "execute_result"
    },
    {
     "data": {
      "image/png": "[encoded data removed]",
      "text/plain": [
       "<Figure size 1800x300 with 2 Axes>"
      ]
     },
     "metadata": {},
     "output_type": "display_data"
    }
   ],
   "source": [
    "\n",
    "missingno.matrix(df, figsize=(18,3),fontsize=11)"
   ]
  },
  {
   "cell_type": "code",
   "execution_count": 37,
   "metadata": {},
   "outputs": [
    {
     "name": "stdout",
     "output_type": "stream",
     "text": [
      "maximum num of failure per car 1\n"
     ]
    },
    {
     "data": {
      "text/plain": [
       "<Figure size 640x480 with 0 Axes>"
      ]
     },
     "execution_count": 37,
     "metadata": {},
     "output_type": "execute_result"
    },
    {
     "data": {
      "image/png": "[encoded data removed]",
      "text/plain": [
       "<Figure size 1800x300 with 2 Axes>"
      ]
     },
     "metadata": {},
     "output_type": "display_data"
    },
    {
     "data": {
      "text/plain": [
       "<Figure size 640x480 with 0 Axes>"
      ]
     },
     "metadata": {},
     "output_type": "display_data"
    }
   ],
   "source": [
    "\n",
    "df[\"Total_fail\"] = df[failure_list].aggregate(\"sum\", axis=1)\n",
    "print(f\"maximum num of failure per car {df.Total_fail.max()}\")\n",
    "missingno.matrix(df.sort_values([\"Total_fail\"]), figsize=(18,3),fontsize=11)\n",
    "plt.figure()"
   ]
  },
  {
   "cell_type": "code",
   "execution_count": 38,
   "metadata": {},
   "outputs": [
    {
     "data": {
      "text/html": [
       "<div>\n",
       "<style scoped>\n",
       "    .dataframe tbody tr th:only-of-type {\n",
       "        vertical-align: middle;\n",
       "    }\n",
       "\n",
       "    .dataframe tbody tr th {\n",
       "        vertical-align: top;\n",
       "    }\n",
       "\n",
       "    .dataframe thead th {\n",
       "        text-align: right;\n",
       "    }\n",
       "</style>\n",
       "<table border=\"1\" class=\"dataframe\">\n",
       "  <thead>\n",
       "    <tr style=\"text-align: right;\">\n",
       "      <th></th>\n",
       "      <th>Car ID</th>\n",
       "      <th>Model</th>\n",
       "      <th>Color</th>\n",
       "      <th>Temperature</th>\n",
       "      <th>RPM</th>\n",
       "      <th>Factory</th>\n",
       "      <th>Usage</th>\n",
       "      <th>Fuel consumption</th>\n",
       "      <th>Membership</th>\n",
       "      <th>Failure A</th>\n",
       "      <th>Failure B</th>\n",
       "      <th>Failure C</th>\n",
       "      <th>Failure D</th>\n",
       "      <th>Failure E</th>\n",
       "      <th>Total_fail</th>\n",
       "    </tr>\n",
       "  </thead>\n",
       "  <tbody>\n",
       "    <tr>\n",
       "      <th>1387</th>\n",
       "      <td>8eccda36-9735-4c0c-8d41-768a0c9cabc9</td>\n",
       "      <td>Model 3, 2015</td>\n",
       "      <td>White</td>\n",
       "      <td>110.6 °C</td>\n",
       "      <td>1823</td>\n",
       "      <td>Shang Hai, China</td>\n",
       "      <td>High</td>\n",
       "      <td>703.2</td>\n",
       "      <td>None</td>\n",
       "      <td>0</td>\n",
       "      <td>0</td>\n",
       "      <td>0</td>\n",
       "      <td>0</td>\n",
       "      <td>1</td>\n",
       "      <td>1</td>\n",
       "    </tr>\n",
       "    <tr>\n",
       "      <th>8442</th>\n",
       "      <td>99e917c1-8cd8-43d3-850c-8bcc94e391fd</td>\n",
       "      <td>Model 3, 2022</td>\n",
       "      <td>Red</td>\n",
       "      <td>110.5 °C</td>\n",
       "      <td>1517</td>\n",
       "      <td>Shang Hai, China</td>\n",
       "      <td>Low</td>\n",
       "      <td>625.6</td>\n",
       "      <td>Normal</td>\n",
       "      <td>0</td>\n",
       "      <td>0</td>\n",
       "      <td>0</td>\n",
       "      <td>0</td>\n",
       "      <td>1</td>\n",
       "      <td>1</td>\n",
       "    </tr>\n",
       "    <tr>\n",
       "      <th>1391</th>\n",
       "      <td>a431d443-c561-49c3-8cab-88312880ec3e</td>\n",
       "      <td>Model 3, 2015</td>\n",
       "      <td>Red</td>\n",
       "      <td>231.1 °F</td>\n",
       "      <td>2737</td>\n",
       "      <td>New York, U.S</td>\n",
       "      <td>Low</td>\n",
       "      <td>604.2</td>\n",
       "      <td>None</td>\n",
       "      <td>0</td>\n",
       "      <td>0</td>\n",
       "      <td>0</td>\n",
       "      <td>0</td>\n",
       "      <td>1</td>\n",
       "      <td>1</td>\n",
       "    </tr>\n",
       "    <tr>\n",
       "      <th>1335</th>\n",
       "      <td>150922c0-e35a-4ffb-8049-4b66d95701e5</td>\n",
       "      <td>Model 3, 2011</td>\n",
       "      <td>Black</td>\n",
       "      <td>110.6 °C</td>\n",
       "      <td>1371</td>\n",
       "      <td>Shang Hai, China</td>\n",
       "      <td>Low</td>\n",
       "      <td>687.9</td>\n",
       "      <td>None</td>\n",
       "      <td>1</td>\n",
       "      <td>0</td>\n",
       "      <td>0</td>\n",
       "      <td>0</td>\n",
       "      <td>0</td>\n",
       "      <td>1</td>\n",
       "    </tr>\n",
       "    <tr>\n",
       "      <th>7342</th>\n",
       "      <td>ee65ef2c-9dbb-4727-86e4-11d786ce8e37</td>\n",
       "      <td>Model 5, 2022</td>\n",
       "      <td>White</td>\n",
       "      <td>111.0 °C</td>\n",
       "      <td>1661</td>\n",
       "      <td>Shang Hai, China</td>\n",
       "      <td>Low</td>\n",
       "      <td>647.4</td>\n",
       "      <td>None</td>\n",
       "      <td>0</td>\n",
       "      <td>0</td>\n",
       "      <td>1</td>\n",
       "      <td>0</td>\n",
       "      <td>0</td>\n",
       "      <td>1</td>\n",
       "    </tr>\n",
       "  </tbody>\n",
       "</table>\n",
       "</div>"
      ],
      "text/plain": [
       "                                    Car ID          Model  Color Temperature  \\\n",
       "1387  8eccda36-9735-4c0c-8d41-768a0c9cabc9  Model 3, 2015  White    110.6 °C   \n",
       "8442  99e917c1-8cd8-43d3-850c-8bcc94e391fd  Model 3, 2022    Red    110.5 °C   \n",
       "1391  a431d443-c561-49c3-8cab-88312880ec3e  Model 3, 2015    Red    231.1 °F   \n",
       "1335  150922c0-e35a-4ffb-8049-4b66d95701e5  Model 3, 2011  Black    110.6 °C   \n",
       "7342  ee65ef2c-9dbb-4727-86e4-11d786ce8e37  Model 5, 2022  White    111.0 °C   \n",
       "\n",
       "       RPM           Factory Usage  Fuel consumption Membership  Failure A  \\\n",
       "1387  1823  Shang Hai, China  High             703.2       None          0   \n",
       "8442  1517  Shang Hai, China   Low             625.6     Normal          0   \n",
       "1391  2737     New York, U.S   Low             604.2       None          0   \n",
       "1335  1371  Shang Hai, China   Low             687.9       None          1   \n",
       "7342  1661  Shang Hai, China   Low             647.4       None          0   \n",
       "\n",
       "      Failure B  Failure C  Failure D  Failure E  Total_fail  \n",
       "1387          0          0          0          1           1  \n",
       "8442          0          0          0          1           1  \n",
       "1391          0          0          0          1           1  \n",
       "1335          0          0          0          0           1  \n",
       "7342          0          1          0          0           1  "
      ]
     },
     "execution_count": 38,
     "metadata": {},
     "output_type": "execute_result"
    }
   ],
   "source": [
    "df.sort_values([\"Total_fail\"]).tail()"
   ]
  },
  {
   "cell_type": "code",
   "execution_count": 39,
   "metadata": {},
   "outputs": [
    {
     "data": {
      "text/plain": [
       "Car ID              0\n",
       "Model               0\n",
       "Color               0\n",
       "Temperature         0\n",
       "RPM                 0\n",
       "Factory             0\n",
       "Usage               0\n",
       "Fuel consumption    0\n",
       "Membership          0\n",
       "Failure A           0\n",
       "Failure B           0\n",
       "Failure C           0\n",
       "Failure D           0\n",
       "Failure E           0\n",
       "Total_fail          0\n",
       "dtype: int64"
      ]
     },
     "execution_count": 39,
     "metadata": {},
     "output_type": "execute_result"
    }
   ],
   "source": [
    "df.fillna(\"Empty\", inplace=True)\n",
    "df.isna().sum()"
   ]
  },
  {
   "cell_type": "code",
   "execution_count": 40,
   "metadata": {},
   "outputs": [
    {
     "name": "stdout",
     "output_type": "stream",
     "text": [
      "White    5568\n",
      "Red      1159\n",
      "Blue     1129\n",
      "Grey     1086\n",
      "Black    1058\n",
      "Name: Color, dtype: int64\n"
     ]
    },
    {
     "data": {
      "image/png": "[encoded data removed]",
      "text/plain": [
       "<Figure size 640x480 with 1 Axes>"
      ]
     },
     "metadata": {},
     "output_type": "display_data"
    },
    {
     "name": "stdout",
     "output_type": "stream",
     "text": [
      "Shang Hai, China    5478\n",
      "Berlin, Germany     2215\n",
      "New York, U.S       2127\n",
      "Seng Kang, China     106\n",
      "Newton, China         44\n",
      "Bedok, Germany        30\n",
      "Name: Factory, dtype: int64\n"
     ]
    },
    {
     "data": {
      "image/png": "[encoded data removed]",
      "text/plain": [
       "<Figure size 640x480 with 1 Axes>"
      ]
     },
     "metadata": {},
     "output_type": "display_data"
    },
    {
     "name": "stdout",
     "output_type": "stream",
     "text": [
      "High      3527\n",
      "Medium    3335\n",
      "Low       3138\n",
      "Name: Usage, dtype: int64\n"
     ]
    },
    {
     "data": {
      "image/png": "[encoded data removed]",
      "text/plain": [
       "<Figure size 640x480 with 1 Axes>"
      ]
     },
     "metadata": {},
     "output_type": "display_data"
    },
    {
     "name": "stdout",
     "output_type": "stream",
     "text": [
      "Normal     4483\n",
      "Premium    3416\n",
      "None       1718\n",
      "Empty       383\n",
      "Name: Membership, dtype: int64\n"
     ]
    },
    {
     "data": {
      "image/png": "[encoded data removed]",
      "text/plain": [
       "<Figure size 640x480 with 1 Axes>"
      ]
     },
     "metadata": {},
     "output_type": "display_data"
    }
   ],
   "source": [
    "for col in df.drop(columns=[\"Car ID\",\"Temperature\", \"Model\"]).columns:    \n",
    "    if type(df[col][0]) == str:\n",
    "        print(df[col].value_counts())\n",
    "        plt.hist(df[col].value_counts())\n",
    "        plt.show()"
   ]
  },
  {
   "attachments": {},
   "cell_type": "markdown",
   "metadata": {},
   "source": [
    "## Drop rows with invalid Factory location\n",
    "Remove some rows with in correct city name \"Bedok, Berlin\" and \"Seng Kang, China\" because the number of rows are small and won't affect result statistically."
   ]
  },
  {
   "cell_type": "code",
   "execution_count": 41,
   "metadata": {},
   "outputs": [
    {
     "name": "stdout",
     "output_type": "stream",
     "text": [
      "Before removing wrong name Factory         \n",
      "Shang Hai, China    5478\n",
      "Berlin, Germany     2215\n",
      "New York, U.S       2127\n",
      "Seng Kang, China     106\n",
      "Newton, China         44\n",
      "Bedok, Germany        30\n",
      "dtype: int64\n",
      "Seng Kang, China\n",
      "Newton, China\n",
      "Bedok, Germany\n",
      "\n",
      "After removing wrong name Factory         \n",
      "Shang Hai, China    5478\n",
      "Berlin, Germany     2215\n",
      "New York, U.S       2127\n",
      "dtype: int64\n"
     ]
    }
   ],
   "source": [
    "print(\"Before removing wrong name\", df[[\"Factory\"]].value_counts())\n",
    "df = remove_wrong_city(df)\n",
    "print()\n",
    "print(\"After removing wrong name\", df[[\"Factory\"]].value_counts())"
   ]
  },
  {
   "cell_type": "markdown",
   "metadata": {
    "tags": [
     "parameters"
    ]
   },
   "source": [
    "## Convert categorical data to numeric data"
   ]
  },
  {
   "cell_type": "code",
   "execution_count": 42,
   "metadata": {},
   "outputs": [
    {
     "data": {
      "text/html": [
       "<div>\n",
       "<style scoped>\n",
       "    .dataframe tbody tr th:only-of-type {\n",
       "        vertical-align: middle;\n",
       "    }\n",
       "\n",
       "    .dataframe tbody tr th {\n",
       "        vertical-align: top;\n",
       "    }\n",
       "\n",
       "    .dataframe thead th {\n",
       "        text-align: right;\n",
       "    }\n",
       "</style>\n",
       "<table border=\"1\" class=\"dataframe\">\n",
       "  <thead>\n",
       "    <tr style=\"text-align: right;\">\n",
       "      <th></th>\n",
       "      <th>Car ID</th>\n",
       "      <th>Model</th>\n",
       "      <th>Color</th>\n",
       "      <th>Temperature</th>\n",
       "      <th>RPM</th>\n",
       "      <th>Factory</th>\n",
       "      <th>Usage</th>\n",
       "      <th>Fuel consumption</th>\n",
       "      <th>Membership</th>\n",
       "      <th>Failure A</th>\n",
       "      <th>Failure B</th>\n",
       "      <th>Failure C</th>\n",
       "      <th>Failure D</th>\n",
       "      <th>Failure E</th>\n",
       "      <th>Total_fail</th>\n",
       "    </tr>\n",
       "  </thead>\n",
       "  <tbody>\n",
       "    <tr>\n",
       "      <th>0</th>\n",
       "      <td>137b948a-c99f-4afa-a2a7-9ef65ae51e8f</td>\n",
       "      <td>Model 5, 2022</td>\n",
       "      <td>Blue</td>\n",
       "      <td>110.3 °C</td>\n",
       "      <td>1551</td>\n",
       "      <td>Shang Hai, China</td>\n",
       "      <td>Medium</td>\n",
       "      <td>659.7</td>\n",
       "      <td>Normal</td>\n",
       "      <td>0</td>\n",
       "      <td>0</td>\n",
       "      <td>0</td>\n",
       "      <td>0</td>\n",
       "      <td>0</td>\n",
       "      <td>0</td>\n",
       "    </tr>\n",
       "    <tr>\n",
       "      <th>1</th>\n",
       "      <td>3395a182-7e76-4fb3-94ba-5163d8f4e6b0</td>\n",
       "      <td>Model 3, 2022</td>\n",
       "      <td>Black</td>\n",
       "      <td>110.4 °C</td>\n",
       "      <td>1408</td>\n",
       "      <td>Shang Hai, China</td>\n",
       "      <td>Medium</td>\n",
       "      <td>705.3</td>\n",
       "      <td>Premium</td>\n",
       "      <td>1</td>\n",
       "      <td>0</td>\n",
       "      <td>0</td>\n",
       "      <td>0</td>\n",
       "      <td>0</td>\n",
       "      <td>1</td>\n",
       "    </tr>\n",
       "    <tr>\n",
       "      <th>2</th>\n",
       "      <td>8c6a8e5b-d869-4665-b739-819c9e4a2070</td>\n",
       "      <td>Model 3, 2022</td>\n",
       "      <td>Grey</td>\n",
       "      <td>110.3 °C</td>\n",
       "      <td>1498</td>\n",
       "      <td>Shang Hai, China</td>\n",
       "      <td>Low</td>\n",
       "      <td>670.7</td>\n",
       "      <td>Premium</td>\n",
       "      <td>0</td>\n",
       "      <td>0</td>\n",
       "      <td>0</td>\n",
       "      <td>0</td>\n",
       "      <td>0</td>\n",
       "      <td>0</td>\n",
       "    </tr>\n",
       "    <tr>\n",
       "      <th>3</th>\n",
       "      <td>ff864366-fe5e-409e-9b2f-8fe440d8cc5b</td>\n",
       "      <td>Model 3, 2022</td>\n",
       "      <td>Black</td>\n",
       "      <td>110.4 °C</td>\n",
       "      <td>1433</td>\n",
       "      <td>Berlin, Germany</td>\n",
       "      <td>High</td>\n",
       "      <td>630.6</td>\n",
       "      <td>Premium</td>\n",
       "      <td>1</td>\n",
       "      <td>0</td>\n",
       "      <td>0</td>\n",
       "      <td>0</td>\n",
       "      <td>0</td>\n",
       "      <td>1</td>\n",
       "    </tr>\n",
       "    <tr>\n",
       "      <th>4</th>\n",
       "      <td>10484506-1be0-4a86-8dbc-b8b2092b93b2</td>\n",
       "      <td>Model 3, 2022</td>\n",
       "      <td>White</td>\n",
       "      <td>230.7 °C</td>\n",
       "      <td>1408</td>\n",
       "      <td>New York, U.S</td>\n",
       "      <td>High</td>\n",
       "      <td>660.9</td>\n",
       "      <td>Normal</td>\n",
       "      <td>0</td>\n",
       "      <td>1</td>\n",
       "      <td>0</td>\n",
       "      <td>0</td>\n",
       "      <td>0</td>\n",
       "      <td>1</td>\n",
       "    </tr>\n",
       "  </tbody>\n",
       "</table>\n",
       "</div>"
      ],
      "text/plain": [
       "                                 Car ID          Model  Color Temperature  \\\n",
       "0  137b948a-c99f-4afa-a2a7-9ef65ae51e8f  Model 5, 2022   Blue    110.3 °C   \n",
       "1  3395a182-7e76-4fb3-94ba-5163d8f4e6b0  Model 3, 2022  Black    110.4 °C   \n",
       "2  8c6a8e5b-d869-4665-b739-819c9e4a2070  Model 3, 2022   Grey    110.3 °C   \n",
       "3  ff864366-fe5e-409e-9b2f-8fe440d8cc5b  Model 3, 2022  Black    110.4 °C   \n",
       "4  10484506-1be0-4a86-8dbc-b8b2092b93b2  Model 3, 2022  White    230.7 °C   \n",
       "\n",
       "    RPM           Factory   Usage  Fuel consumption Membership  Failure A  \\\n",
       "0  1551  Shang Hai, China  Medium             659.7     Normal          0   \n",
       "1  1408  Shang Hai, China  Medium             705.3    Premium          1   \n",
       "2  1498  Shang Hai, China     Low             670.7    Premium          0   \n",
       "3  1433   Berlin, Germany    High             630.6    Premium          1   \n",
       "4  1408     New York, U.S    High             660.9     Normal          0   \n",
       "\n",
       "   Failure B  Failure C  Failure D  Failure E  Total_fail  \n",
       "0          0          0          0          0           0  \n",
       "1          0          0          0          0           1  \n",
       "2          0          0          0          0           0  \n",
       "3          0          0          0          0           1  \n",
       "4          1          0          0          0           1  "
      ]
     },
     "execution_count": 42,
     "metadata": {},
     "output_type": "execute_result"
    }
   ],
   "source": [
    "df.head()"
   ]
  },
  {
   "cell_type": "code",
   "execution_count": 43,
   "metadata": {},
   "outputs": [
    {
     "name": "stdout",
     "output_type": "stream",
     "text": [
      "New numerical column Color_num and its matched value \n",
      "\t0:Black\n",
      "\t1:Blue\n",
      "\t2:Grey\n",
      "\t3:Red\n",
      "\t4:White\n",
      "New numerical column Fac_ctry_num and its matched value \n",
      "\t0: China\n",
      "\t1: Germany\n",
      "\t2: U.S\n",
      "New numerical column Fac_city_num and its matched value \n",
      "\t0:Berlin\n",
      "\t1:New York\n",
      "\t2:Shang Hai\n",
      "New numerical column Usage_num and its matched value \n",
      "\t0:Low\n",
      "\t1:Medium\n",
      "\t2:High\n",
      "New numerical column Membership_num and its matched value \n",
      "\t0:Premium\n",
      "\t1:Normal\n",
      "\t2:None\n",
      "\t3:Empty\n"
     ]
    }
   ],
   "source": [
    "# df, cat2num_dict = src.main.categorical_to_numerical(df)\n",
    "# display(df.head())   \n",
    "df[\"Mod_yy\"]=df.Model.apply(lambda x:int(x.split(\",\")[-1][-2:]))\n",
    "df[\"Mod_num\"]=df.Model.apply(lambda x: int(x.split(\",\")[0][-1]))\n",
    "df[\"Fac_ctry\"]=df.Factory.apply(lambda x:x.split(\",\")[-1])\n",
    "df[\"Fac_city\"]=df.Factory.apply(lambda x:x.split(\",\")[0])\n",
    "df[\"Tem_celc\"]=df.Temperature.apply(\n",
    "    lambda x: float(x.split(\" \")[0]) if x.split(\" \")[-1]==\"°C\" else (float(x.split(\" \")[0]) - 32)*(5/9))\n",
    "\n",
    "cat_col = [\"Color\",\t\"Fac_ctry\", \"Fac_city\"]\n",
    "cat2num_dict = {}\n",
    "for col in cat_col:\n",
    "    cat2num_dict[col] = sorted(list(df[col].unique()))    \n",
    "\n",
    "cat2num_dict[\"Usage\"] = [\"Low\", \"Medium\", \"High\"]\n",
    "cat2num_dict[\"Membership\"] = [\"Premium\", \"Normal\", \"None\", \"Empty\"]\n",
    "\n",
    "for col, cat in cat2num_dict.items():\n",
    "    new_col = col+\"_num\"\n",
    "    df[new_col] = df[col].apply(lambda x: cat.index(x))\n",
    "    print(f\"New numerical column {new_col} and its matched value \")\n",
    "    for c in cat:\n",
    "        print(f\"\\t{cat.index(c)}:{c}\")    "
   ]
  },
  {
   "cell_type": "code",
   "execution_count": 44,
   "metadata": {},
   "outputs": [
    {
     "name": "stdout",
     "output_type": "stream",
     "text": [
      "{'Color': ['Black', 'Blue', 'Grey', 'Red', 'White'], 'Fac_ctry': [' China', ' Germany', ' U.S'], 'Fac_city': ['Berlin', 'New York', 'Shang Hai'], 'Usage': ['Low', 'Medium', 'High'], 'Membership': ['Premium', 'Normal', 'None', 'Empty']}\n",
      "1\n",
      "2\n"
     ]
    }
   ],
   "source": [
    "cat2num_dict[\"Usage\"] = ['Low', 'Medium', 'High'] #incremental\n",
    "cat2num_dict[\"Membership\"] = ['Premium', 'Normal', 'None', 'Empty']\n",
    "print(cat2num_dict)\n",
    "print(cat2num_dict[\"Color\"].index(\"Blue\")) \n",
    "print(cat2num_dict[\"Usage\"].index(\"High\"))\n"
   ]
  },
  {
   "cell_type": "code",
   "execution_count": 45,
   "metadata": {},
   "outputs": [
    {
     "data": {
      "text/html": [
       "<div>\n",
       "<style scoped>\n",
       "    .dataframe tbody tr th:only-of-type {\n",
       "        vertical-align: middle;\n",
       "    }\n",
       "\n",
       "    .dataframe tbody tr th {\n",
       "        vertical-align: top;\n",
       "    }\n",
       "\n",
       "    .dataframe thead th {\n",
       "        text-align: right;\n",
       "    }\n",
       "</style>\n",
       "<table border=\"1\" class=\"dataframe\">\n",
       "  <thead>\n",
       "    <tr style=\"text-align: right;\">\n",
       "      <th></th>\n",
       "      <th>Car ID</th>\n",
       "      <th>Model</th>\n",
       "      <th>Color</th>\n",
       "      <th>Temperature</th>\n",
       "      <th>RPM</th>\n",
       "      <th>Factory</th>\n",
       "      <th>Usage</th>\n",
       "      <th>Fuel consumption</th>\n",
       "      <th>Membership</th>\n",
       "      <th>Failure A</th>\n",
       "      <th>...</th>\n",
       "      <th>Mod_yy</th>\n",
       "      <th>Mod_num</th>\n",
       "      <th>Fac_ctry</th>\n",
       "      <th>Fac_city</th>\n",
       "      <th>Tem_celc</th>\n",
       "      <th>Color_num</th>\n",
       "      <th>Fac_ctry_num</th>\n",
       "      <th>Fac_city_num</th>\n",
       "      <th>Usage_num</th>\n",
       "      <th>Membership_num</th>\n",
       "    </tr>\n",
       "  </thead>\n",
       "  <tbody>\n",
       "    <tr>\n",
       "      <th>0</th>\n",
       "      <td>137b948a-c99f-4afa-a2a7-9ef65ae51e8f</td>\n",
       "      <td>Model 5, 2022</td>\n",
       "      <td>Blue</td>\n",
       "      <td>110.3 °C</td>\n",
       "      <td>1551</td>\n",
       "      <td>Shang Hai, China</td>\n",
       "      <td>Medium</td>\n",
       "      <td>659.7</td>\n",
       "      <td>Normal</td>\n",
       "      <td>0</td>\n",
       "      <td>...</td>\n",
       "      <td>22</td>\n",
       "      <td>5</td>\n",
       "      <td>China</td>\n",
       "      <td>Shang Hai</td>\n",
       "      <td>110.3</td>\n",
       "      <td>1</td>\n",
       "      <td>0</td>\n",
       "      <td>2</td>\n",
       "      <td>1</td>\n",
       "      <td>1</td>\n",
       "    </tr>\n",
       "    <tr>\n",
       "      <th>1</th>\n",
       "      <td>3395a182-7e76-4fb3-94ba-5163d8f4e6b0</td>\n",
       "      <td>Model 3, 2022</td>\n",
       "      <td>Black</td>\n",
       "      <td>110.4 °C</td>\n",
       "      <td>1408</td>\n",
       "      <td>Shang Hai, China</td>\n",
       "      <td>Medium</td>\n",
       "      <td>705.3</td>\n",
       "      <td>Premium</td>\n",
       "      <td>1</td>\n",
       "      <td>...</td>\n",
       "      <td>22</td>\n",
       "      <td>3</td>\n",
       "      <td>China</td>\n",
       "      <td>Shang Hai</td>\n",
       "      <td>110.4</td>\n",
       "      <td>0</td>\n",
       "      <td>0</td>\n",
       "      <td>2</td>\n",
       "      <td>1</td>\n",
       "      <td>0</td>\n",
       "    </tr>\n",
       "    <tr>\n",
       "      <th>2</th>\n",
       "      <td>8c6a8e5b-d869-4665-b739-819c9e4a2070</td>\n",
       "      <td>Model 3, 2022</td>\n",
       "      <td>Grey</td>\n",
       "      <td>110.3 °C</td>\n",
       "      <td>1498</td>\n",
       "      <td>Shang Hai, China</td>\n",
       "      <td>Low</td>\n",
       "      <td>670.7</td>\n",
       "      <td>Premium</td>\n",
       "      <td>0</td>\n",
       "      <td>...</td>\n",
       "      <td>22</td>\n",
       "      <td>3</td>\n",
       "      <td>China</td>\n",
       "      <td>Shang Hai</td>\n",
       "      <td>110.3</td>\n",
       "      <td>2</td>\n",
       "      <td>0</td>\n",
       "      <td>2</td>\n",
       "      <td>0</td>\n",
       "      <td>0</td>\n",
       "    </tr>\n",
       "    <tr>\n",
       "      <th>3</th>\n",
       "      <td>ff864366-fe5e-409e-9b2f-8fe440d8cc5b</td>\n",
       "      <td>Model 3, 2022</td>\n",
       "      <td>Black</td>\n",
       "      <td>110.4 °C</td>\n",
       "      <td>1433</td>\n",
       "      <td>Berlin, Germany</td>\n",
       "      <td>High</td>\n",
       "      <td>630.6</td>\n",
       "      <td>Premium</td>\n",
       "      <td>1</td>\n",
       "      <td>...</td>\n",
       "      <td>22</td>\n",
       "      <td>3</td>\n",
       "      <td>Germany</td>\n",
       "      <td>Berlin</td>\n",
       "      <td>110.4</td>\n",
       "      <td>0</td>\n",
       "      <td>1</td>\n",
       "      <td>0</td>\n",
       "      <td>2</td>\n",
       "      <td>0</td>\n",
       "    </tr>\n",
       "    <tr>\n",
       "      <th>4</th>\n",
       "      <td>10484506-1be0-4a86-8dbc-b8b2092b93b2</td>\n",
       "      <td>Model 3, 2022</td>\n",
       "      <td>White</td>\n",
       "      <td>230.7 °C</td>\n",
       "      <td>1408</td>\n",
       "      <td>New York, U.S</td>\n",
       "      <td>High</td>\n",
       "      <td>660.9</td>\n",
       "      <td>Normal</td>\n",
       "      <td>0</td>\n",
       "      <td>...</td>\n",
       "      <td>22</td>\n",
       "      <td>3</td>\n",
       "      <td>U.S</td>\n",
       "      <td>New York</td>\n",
       "      <td>230.7</td>\n",
       "      <td>4</td>\n",
       "      <td>2</td>\n",
       "      <td>1</td>\n",
       "      <td>2</td>\n",
       "      <td>1</td>\n",
       "    </tr>\n",
       "  </tbody>\n",
       "</table>\n",
       "<p>5 rows × 25 columns</p>\n",
       "</div>"
      ],
      "text/plain": [
       "                                 Car ID          Model  Color Temperature  \\\n",
       "0  137b948a-c99f-4afa-a2a7-9ef65ae51e8f  Model 5, 2022   Blue    110.3 °C   \n",
       "1  3395a182-7e76-4fb3-94ba-5163d8f4e6b0  Model 3, 2022  Black    110.4 °C   \n",
       "2  8c6a8e5b-d869-4665-b739-819c9e4a2070  Model 3, 2022   Grey    110.3 °C   \n",
       "3  ff864366-fe5e-409e-9b2f-8fe440d8cc5b  Model 3, 2022  Black    110.4 °C   \n",
       "4  10484506-1be0-4a86-8dbc-b8b2092b93b2  Model 3, 2022  White    230.7 °C   \n",
       "\n",
       "    RPM           Factory   Usage  Fuel consumption Membership  Failure A  \\\n",
       "0  1551  Shang Hai, China  Medium             659.7     Normal          0   \n",
       "1  1408  Shang Hai, China  Medium             705.3    Premium          1   \n",
       "2  1498  Shang Hai, China     Low             670.7    Premium          0   \n",
       "3  1433   Berlin, Germany    High             630.6    Premium          1   \n",
       "4  1408     New York, U.S    High             660.9     Normal          0   \n",
       "\n",
       "   ...  Mod_yy  Mod_num  Fac_ctry   Fac_city  Tem_celc  Color_num  \\\n",
       "0  ...      22        5     China  Shang Hai     110.3          1   \n",
       "1  ...      22        3     China  Shang Hai     110.4          0   \n",
       "2  ...      22        3     China  Shang Hai     110.3          2   \n",
       "3  ...      22        3   Germany     Berlin     110.4          0   \n",
       "4  ...      22        3       U.S   New York     230.7          4   \n",
       "\n",
       "   Fac_ctry_num Fac_city_num Usage_num  Membership_num  \n",
       "0             0            2         1               1  \n",
       "1             0            2         1               0  \n",
       "2             0            2         0               0  \n",
       "3             1            0         2               0  \n",
       "4             2            1         2               1  \n",
       "\n",
       "[5 rows x 25 columns]"
      ]
     },
     "execution_count": 45,
     "metadata": {},
     "output_type": "execute_result"
    }
   ],
   "source": [
    "\n",
    "        \n",
    "df.head()\n",
    "\n",
    "# df.rename(columns={\"Membership_num\":\"Mem_num\"}).head()\n",
    "\n",
    "# assert \"Membership_num\" in df.columns\n",
    "# df.head()"
   ]
  },
  {
   "cell_type": "code",
   "execution_count": 46,
   "metadata": {},
   "outputs": [
    {
     "data": {
      "text/html": [
       "<div>\n",
       "<style scoped>\n",
       "    .dataframe tbody tr th:only-of-type {\n",
       "        vertical-align: middle;\n",
       "    }\n",
       "\n",
       "    .dataframe tbody tr th {\n",
       "        vertical-align: top;\n",
       "    }\n",
       "\n",
       "    .dataframe thead th {\n",
       "        text-align: right;\n",
       "    }\n",
       "</style>\n",
       "<table border=\"1\" class=\"dataframe\">\n",
       "  <thead>\n",
       "    <tr style=\"text-align: right;\">\n",
       "      <th></th>\n",
       "      <th>count</th>\n",
       "      <th>mean</th>\n",
       "      <th>std</th>\n",
       "      <th>min</th>\n",
       "      <th>25%</th>\n",
       "      <th>50%</th>\n",
       "      <th>75%</th>\n",
       "      <th>max</th>\n",
       "    </tr>\n",
       "  </thead>\n",
       "  <tbody>\n",
       "    <tr>\n",
       "      <th>RPM</th>\n",
       "      <td>9820.0</td>\n",
       "      <td>1470.355092</td>\n",
       "      <td>487.682432</td>\n",
       "      <td>-2636.0</td>\n",
       "      <td>1417.000</td>\n",
       "      <td>1499.0</td>\n",
       "      <td>1609.000</td>\n",
       "      <td>2886.0</td>\n",
       "    </tr>\n",
       "    <tr>\n",
       "      <th>Fuel consumption</th>\n",
       "      <td>9820.0</td>\n",
       "      <td>679.257037</td>\n",
       "      <td>58.363905</td>\n",
       "      <td>598.5</td>\n",
       "      <td>638.775</td>\n",
       "      <td>668.4</td>\n",
       "      <td>703.425</td>\n",
       "      <td>904.8</td>\n",
       "    </tr>\n",
       "    <tr>\n",
       "      <th>Failure A</th>\n",
       "      <td>9820.0</td>\n",
       "      <td>0.022912</td>\n",
       "      <td>0.149632</td>\n",
       "      <td>0.0</td>\n",
       "      <td>0.000</td>\n",
       "      <td>0.0</td>\n",
       "      <td>0.000</td>\n",
       "      <td>1.0</td>\n",
       "    </tr>\n",
       "    <tr>\n",
       "      <th>Failure B</th>\n",
       "      <td>9820.0</td>\n",
       "      <td>0.014766</td>\n",
       "      <td>0.120620</td>\n",
       "      <td>0.0</td>\n",
       "      <td>0.000</td>\n",
       "      <td>0.0</td>\n",
       "      <td>0.000</td>\n",
       "      <td>1.0</td>\n",
       "    </tr>\n",
       "    <tr>\n",
       "      <th>Failure C</th>\n",
       "      <td>9820.0</td>\n",
       "      <td>0.027189</td>\n",
       "      <td>0.162643</td>\n",
       "      <td>0.0</td>\n",
       "      <td>0.000</td>\n",
       "      <td>0.0</td>\n",
       "      <td>0.000</td>\n",
       "      <td>1.0</td>\n",
       "    </tr>\n",
       "    <tr>\n",
       "      <th>Failure D</th>\n",
       "      <td>9820.0</td>\n",
       "      <td>0.021690</td>\n",
       "      <td>0.145678</td>\n",
       "      <td>0.0</td>\n",
       "      <td>0.000</td>\n",
       "      <td>0.0</td>\n",
       "      <td>0.000</td>\n",
       "      <td>1.0</td>\n",
       "    </tr>\n",
       "    <tr>\n",
       "      <th>Failure E</th>\n",
       "      <td>9820.0</td>\n",
       "      <td>0.023625</td>\n",
       "      <td>0.151886</td>\n",
       "      <td>0.0</td>\n",
       "      <td>0.000</td>\n",
       "      <td>0.0</td>\n",
       "      <td>0.000</td>\n",
       "      <td>1.0</td>\n",
       "    </tr>\n",
       "    <tr>\n",
       "      <th>Total_fail</th>\n",
       "      <td>9820.0</td>\n",
       "      <td>0.110183</td>\n",
       "      <td>0.313134</td>\n",
       "      <td>0.0</td>\n",
       "      <td>0.000</td>\n",
       "      <td>0.0</td>\n",
       "      <td>0.000</td>\n",
       "      <td>1.0</td>\n",
       "    </tr>\n",
       "    <tr>\n",
       "      <th>Mod_yy</th>\n",
       "      <td>9820.0</td>\n",
       "      <td>16.606212</td>\n",
       "      <td>3.207306</td>\n",
       "      <td>9.0</td>\n",
       "      <td>14.000</td>\n",
       "      <td>17.0</td>\n",
       "      <td>19.000</td>\n",
       "      <td>22.0</td>\n",
       "    </tr>\n",
       "    <tr>\n",
       "      <th>Mod_num</th>\n",
       "      <td>9820.0</td>\n",
       "      <td>4.003870</td>\n",
       "      <td>1.343524</td>\n",
       "      <td>3.0</td>\n",
       "      <td>3.000</td>\n",
       "      <td>3.0</td>\n",
       "      <td>5.000</td>\n",
       "      <td>7.0</td>\n",
       "    </tr>\n",
       "    <tr>\n",
       "      <th>Tem_celc</th>\n",
       "      <td>9820.0</td>\n",
       "      <td>113.120527</td>\n",
       "      <td>4.674567</td>\n",
       "      <td>110.0</td>\n",
       "      <td>110.400</td>\n",
       "      <td>111.4</td>\n",
       "      <td>113.600</td>\n",
       "      <td>230.7</td>\n",
       "    </tr>\n",
       "    <tr>\n",
       "      <th>Color_num</th>\n",
       "      <td>9820.0</td>\n",
       "      <td>2.904990</td>\n",
       "      <td>1.434035</td>\n",
       "      <td>0.0</td>\n",
       "      <td>2.000</td>\n",
       "      <td>4.0</td>\n",
       "      <td>4.000</td>\n",
       "      <td>4.0</td>\n",
       "    </tr>\n",
       "    <tr>\n",
       "      <th>Fac_ctry_num</th>\n",
       "      <td>9820.0</td>\n",
       "      <td>0.658758</td>\n",
       "      <td>0.811209</td>\n",
       "      <td>0.0</td>\n",
       "      <td>0.000</td>\n",
       "      <td>0.0</td>\n",
       "      <td>1.000</td>\n",
       "      <td>2.0</td>\n",
       "    </tr>\n",
       "    <tr>\n",
       "      <th>Fac_city_num</th>\n",
       "      <td>9820.0</td>\n",
       "      <td>1.332281</td>\n",
       "      <td>0.820402</td>\n",
       "      <td>0.0</td>\n",
       "      <td>1.000</td>\n",
       "      <td>2.0</td>\n",
       "      <td>2.000</td>\n",
       "      <td>2.0</td>\n",
       "    </tr>\n",
       "    <tr>\n",
       "      <th>Usage_num</th>\n",
       "      <td>9820.0</td>\n",
       "      <td>1.034216</td>\n",
       "      <td>0.816154</td>\n",
       "      <td>0.0</td>\n",
       "      <td>0.000</td>\n",
       "      <td>1.0</td>\n",
       "      <td>2.000</td>\n",
       "      <td>2.0</td>\n",
       "    </tr>\n",
       "    <tr>\n",
       "      <th>Membership_num</th>\n",
       "      <td>9820.0</td>\n",
       "      <td>0.890733</td>\n",
       "      <td>0.796402</td>\n",
       "      <td>0.0</td>\n",
       "      <td>0.000</td>\n",
       "      <td>1.0</td>\n",
       "      <td>1.000</td>\n",
       "      <td>3.0</td>\n",
       "    </tr>\n",
       "  </tbody>\n",
       "</table>\n",
       "</div>"
      ],
      "text/plain": [
       "                   count         mean         std     min       25%     50%  \\\n",
       "RPM               9820.0  1470.355092  487.682432 -2636.0  1417.000  1499.0   \n",
       "Fuel consumption  9820.0   679.257037   58.363905   598.5   638.775   668.4   \n",
       "Failure A         9820.0     0.022912    0.149632     0.0     0.000     0.0   \n",
       "Failure B         9820.0     0.014766    0.120620     0.0     0.000     0.0   \n",
       "Failure C         9820.0     0.027189    0.162643     0.0     0.000     0.0   \n",
       "Failure D         9820.0     0.021690    0.145678     0.0     0.000     0.0   \n",
       "Failure E         9820.0     0.023625    0.151886     0.0     0.000     0.0   \n",
       "Total_fail        9820.0     0.110183    0.313134     0.0     0.000     0.0   \n",
       "Mod_yy            9820.0    16.606212    3.207306     9.0    14.000    17.0   \n",
       "Mod_num           9820.0     4.003870    1.343524     3.0     3.000     3.0   \n",
       "Tem_celc          9820.0   113.120527    4.674567   110.0   110.400   111.4   \n",
       "Color_num         9820.0     2.904990    1.434035     0.0     2.000     4.0   \n",
       "Fac_ctry_num      9820.0     0.658758    0.811209     0.0     0.000     0.0   \n",
       "Fac_city_num      9820.0     1.332281    0.820402     0.0     1.000     2.0   \n",
       "Usage_num         9820.0     1.034216    0.816154     0.0     0.000     1.0   \n",
       "Membership_num    9820.0     0.890733    0.796402     0.0     0.000     1.0   \n",
       "\n",
       "                       75%     max  \n",
       "RPM               1609.000  2886.0  \n",
       "Fuel consumption   703.425   904.8  \n",
       "Failure A            0.000     1.0  \n",
       "Failure B            0.000     1.0  \n",
       "Failure C            0.000     1.0  \n",
       "Failure D            0.000     1.0  \n",
       "Failure E            0.000     1.0  \n",
       "Total_fail           0.000     1.0  \n",
       "Mod_yy              19.000    22.0  \n",
       "Mod_num              5.000     7.0  \n",
       "Tem_celc           113.600   230.7  \n",
       "Color_num            4.000     4.0  \n",
       "Fac_ctry_num         1.000     2.0  \n",
       "Fac_city_num         2.000     2.0  \n",
       "Usage_num            2.000     2.0  \n",
       "Membership_num       1.000     3.0  "
      ]
     },
     "execution_count": 46,
     "metadata": {},
     "output_type": "execute_result"
    }
   ],
   "source": [
    "df.describe().T"
   ]
  },
  {
   "cell_type": "code",
   "execution_count": 47,
   "metadata": {},
   "outputs": [
    {
     "data": {
      "text/plain": [
       "<AxesSubplot: >"
      ]
     },
     "execution_count": 47,
     "metadata": {},
     "output_type": "execute_result"
    },
    {
     "data": {
      "image/png": "[encoded data removed]",
      "text/plain": [
       "<Figure size 500x500 with 2 Axes>"
      ]
     },
     "metadata": {},
     "output_type": "display_data"
    }
   ],
   "source": [
    "#Doing Bivariate Analysis by examaning a corelation matrix of all the features using heatmap\n",
    "cmap = sns.diverging_palette(2, 165, s=80, l=55, n=9)\n",
    "corr = df[failure_list].corr()\n",
    "plt.subplots(figsize=(5,5))\n",
    "sns.heatmap(corr,cmap= cmap,annot=True, square=True)"
   ]
  },
  {
   "cell_type": "code",
   "execution_count": 48,
   "metadata": {},
   "outputs": [],
   "source": [
    "# # df[\"RPM_abs\"] = df.RPM.apply(lambda x: abs(x))\n",
    "# feature_drop = ['Failure A', 'Failure B', 'Failure C', 'Failure D', 'Failure E', \"RPM\"]\n",
    "# df_total_fail = df.drop(columns=feature_drop)\n",
    "# sns.pairplot(df_total_fail,hue=\"Total_fail\")\n",
    "# sns.set(font_scale=1)"
   ]
  },
  {
   "cell_type": "code",
   "execution_count": 49,
   "metadata": {},
   "outputs": [
    {
     "data": {
      "text/plain": [
       "<AxesSubplot: >"
      ]
     },
     "execution_count": 49,
     "metadata": {},
     "output_type": "execute_result"
    },
    {
     "data": {
      "image/png": "[encoded data removed]",
      "text/plain": [
       "<Figure size 640x480 with 1 Axes>"
      ]
     },
     "metadata": {},
     "output_type": "display_data"
    }
   ],
   "source": [
    "numerical_feature = ['RPM', \n",
    "    # 'Failure A', 'Failure B', 'Failure C', 'Failure D', 'Failure E', \n",
    "    'Mod_yy', 'Mod_num', 'Tem_celc', 'Color_num', 'Fac_ctry_num', 'Fac_city_num', \n",
    "    'Usage_num', 'Membership_num', 'Total_fail']\n",
    "dfn = df[numerical_feature]\n",
    "dfn[dfn.Membership_num==3][\"Mod_yy\"].hist()\n",
    "# print(dfn[dfn.Membership_num==3][\"Total_fail\"])\n"
   ]
  },
  {
   "attachments": {},
   "cell_type": "markdown",
   "metadata": {},
   "source": [
    "Above chart shows cars whose membership data is empty (i.e neither \"Premium, Normal, nor None\") were built across year 2018 to 2022. Therefore empty membership number does not mean car which its default \"Normal\" membership is expired."
   ]
  },
  {
   "cell_type": "code",
   "execution_count": 50,
   "metadata": {},
   "outputs": [
    {
     "data": {
      "text/plain": [
       "1082"
      ]
     },
     "execution_count": 50,
     "metadata": {},
     "output_type": "execute_result"
    },
    {
     "data": {
      "image/png": "[encoded data removed]",
      "text/plain": [
       "<Figure size 640x480 with 1 Axes>"
      ]
     },
     "metadata": {},
     "output_type": "display_data"
    }
   ],
   "source": [
    "dfn[dfn.Membership_num==3][\"Total_fail\"].hist()\n",
    "dfn.Total_fail.hist(legend=True)\n",
    "(dfn.Total_fail == 1).sum()"
   ]
  },
  {
   "cell_type": "code",
   "execution_count": 51,
   "metadata": {},
   "outputs": [
    {
     "data": {
      "text/html": [
       "<div>\n",
       "<style scoped>\n",
       "    .dataframe tbody tr th:only-of-type {\n",
       "        vertical-align: middle;\n",
       "    }\n",
       "\n",
       "    .dataframe tbody tr th {\n",
       "        vertical-align: top;\n",
       "    }\n",
       "\n",
       "    .dataframe thead th {\n",
       "        text-align: right;\n",
       "    }\n",
       "</style>\n",
       "<table border=\"1\" class=\"dataframe\">\n",
       "  <thead>\n",
       "    <tr style=\"text-align: right;\">\n",
       "      <th></th>\n",
       "      <th>count</th>\n",
       "      <th>mean</th>\n",
       "      <th>std</th>\n",
       "      <th>min</th>\n",
       "      <th>25%</th>\n",
       "      <th>50%</th>\n",
       "      <th>75%</th>\n",
       "      <th>max</th>\n",
       "    </tr>\n",
       "  </thead>\n",
       "  <tbody>\n",
       "    <tr>\n",
       "      <th>RPM</th>\n",
       "      <td>9820.0</td>\n",
       "      <td>4.051975e-17</td>\n",
       "      <td>1.000051</td>\n",
       "      <td>-8.420570</td>\n",
       "      <td>-0.109411</td>\n",
       "      <td>0.058740</td>\n",
       "      <td>0.284308</td>\n",
       "      <td>2.902949</td>\n",
       "    </tr>\n",
       "    <tr>\n",
       "      <th>Mod_yy</th>\n",
       "      <td>9820.0</td>\n",
       "      <td>3.986854e-16</td>\n",
       "      <td>1.000051</td>\n",
       "      <td>-2.371647</td>\n",
       "      <td>-0.812627</td>\n",
       "      <td>0.122785</td>\n",
       "      <td>0.746393</td>\n",
       "      <td>1.681805</td>\n",
       "    </tr>\n",
       "    <tr>\n",
       "      <th>Mod_num</th>\n",
       "      <td>9820.0</td>\n",
       "      <td>-2.380535e-16</td>\n",
       "      <td>1.000051</td>\n",
       "      <td>-0.747229</td>\n",
       "      <td>-0.747229</td>\n",
       "      <td>-0.747229</td>\n",
       "      <td>0.741469</td>\n",
       "      <td>2.230167</td>\n",
       "    </tr>\n",
       "    <tr>\n",
       "      <th>Tem_celc</th>\n",
       "      <td>9820.0</td>\n",
       "      <td>1.065091e-15</td>\n",
       "      <td>1.000051</td>\n",
       "      <td>-0.667588</td>\n",
       "      <td>-0.582015</td>\n",
       "      <td>-0.368080</td>\n",
       "      <td>0.102576</td>\n",
       "      <td>25.154301</td>\n",
       "    </tr>\n",
       "    <tr>\n",
       "      <th>Color_num</th>\n",
       "      <td>9820.0</td>\n",
       "      <td>-1.327745e-16</td>\n",
       "      <td>1.000051</td>\n",
       "      <td>-2.025848</td>\n",
       "      <td>-0.631111</td>\n",
       "      <td>0.763625</td>\n",
       "      <td>0.763625</td>\n",
       "      <td>0.763625</td>\n",
       "    </tr>\n",
       "    <tr>\n",
       "      <th>Fac_ctry_num</th>\n",
       "      <td>9820.0</td>\n",
       "      <td>-2.894268e-18</td>\n",
       "      <td>1.000051</td>\n",
       "      <td>-0.812110</td>\n",
       "      <td>-0.812110</td>\n",
       "      <td>-0.812110</td>\n",
       "      <td>0.420680</td>\n",
       "      <td>1.653470</td>\n",
       "    </tr>\n",
       "    <tr>\n",
       "      <th>Fac_city_num</th>\n",
       "      <td>9820.0</td>\n",
       "      <td>5.064969e-18</td>\n",
       "      <td>1.000051</td>\n",
       "      <td>-1.624020</td>\n",
       "      <td>-0.405043</td>\n",
       "      <td>0.813934</td>\n",
       "      <td>0.813934</td>\n",
       "      <td>0.813934</td>\n",
       "    </tr>\n",
       "    <tr>\n",
       "      <th>Usage_num</th>\n",
       "      <td>9820.0</td>\n",
       "      <td>-1.215592e-16</td>\n",
       "      <td>1.000051</td>\n",
       "      <td>-1.267247</td>\n",
       "      <td>-1.267247</td>\n",
       "      <td>-0.041925</td>\n",
       "      <td>1.183396</td>\n",
       "      <td>1.183396</td>\n",
       "    </tr>\n",
       "    <tr>\n",
       "      <th>Membership_num</th>\n",
       "      <td>9820.0</td>\n",
       "      <td>6.403567e-17</td>\n",
       "      <td>1.000051</td>\n",
       "      <td>-1.118504</td>\n",
       "      <td>-1.118504</td>\n",
       "      <td>0.137208</td>\n",
       "      <td>0.137208</td>\n",
       "      <td>2.648631</td>\n",
       "    </tr>\n",
       "  </tbody>\n",
       "</table>\n",
       "</div>"
      ],
      "text/plain": [
       "                 count          mean       std       min       25%       50%  \\\n",
       "RPM             9820.0  4.051975e-17  1.000051 -8.420570 -0.109411  0.058740   \n",
       "Mod_yy          9820.0  3.986854e-16  1.000051 -2.371647 -0.812627  0.122785   \n",
       "Mod_num         9820.0 -2.380535e-16  1.000051 -0.747229 -0.747229 -0.747229   \n",
       "Tem_celc        9820.0  1.065091e-15  1.000051 -0.667588 -0.582015 -0.368080   \n",
       "Color_num       9820.0 -1.327745e-16  1.000051 -2.025848 -0.631111  0.763625   \n",
       "Fac_ctry_num    9820.0 -2.894268e-18  1.000051 -0.812110 -0.812110 -0.812110   \n",
       "Fac_city_num    9820.0  5.064969e-18  1.000051 -1.624020 -0.405043  0.813934   \n",
       "Usage_num       9820.0 -1.215592e-16  1.000051 -1.267247 -1.267247 -0.041925   \n",
       "Membership_num  9820.0  6.403567e-17  1.000051 -1.118504 -1.118504  0.137208   \n",
       "\n",
       "                     75%        max  \n",
       "RPM             0.284308   2.902949  \n",
       "Mod_yy          0.746393   1.681805  \n",
       "Mod_num         0.741469   2.230167  \n",
       "Tem_celc        0.102576  25.154301  \n",
       "Color_num       0.763625   0.763625  \n",
       "Fac_ctry_num    0.420680   1.653470  \n",
       "Fac_city_num    0.813934   0.813934  \n",
       "Usage_num       1.183396   1.183396  \n",
       "Membership_num  0.137208   2.648631  "
      ]
     },
     "execution_count": 51,
     "metadata": {},
     "output_type": "execute_result"
    }
   ],
   "source": [
    "s_scaler = sklearn.preprocessing.StandardScaler()\n",
    "dfx = dfn.drop(columns=[\"Total_fail\"], axis=1)\n",
    "X_scaled = s_scaler.fit_transform(dfx)\n",
    "dfx_scaled = pd.DataFrame(X_scaled, columns = numerical_feature[:-1])\n",
    "dfx_scaled.describe().T"
   ]
  },
  {
   "cell_type": "code",
   "execution_count": 52,
   "metadata": {},
   "outputs": [
    {
     "data": {
      "text/plain": [
       "<AxesSubplot: >"
      ]
     },
     "execution_count": 52,
     "metadata": {},
     "output_type": "execute_result"
    },
    {
     "data": {
      "image/png": "[encoded data removed]",
      "text/plain": [
       "<Figure size 1000x1000 with 2 Axes>"
      ]
     },
     "metadata": {},
     "output_type": "display_data"
    }
   ],
   "source": [
    "cmap = sns.diverging_palette(2, 165, s=80, l=55, n=9)\n",
    "corr = dfn.corr()\n",
    "plt.subplots(figsize=(10,10))\n",
    "sns.heatmap(corr, cmap= cmap,annot=True, square=True,xticklabels=corr.columns.values, yticklabels=corr.columns.values)\n"
   ]
  },
  {
   "attachments": {},
   "cell_type": "markdown",
   "metadata": {},
   "source": [
    "### Findings\n",
    "Car failure is most  correlated to \"Membership\", followed by \"Usage\", year of the \"Model\", \"Temperature\" and \"RPM\".\n",
    "Car failure is least correlated with \"Color\", Factory, \n",
    "\n"
   ]
  }
 ],
 "metadata": {
  "kernelspec": {
   "display_name": "py38-aiap",
   "language": "python",
   "name": "python3"
  },
  "language_info": {
   "codemirror_mode": {
    "name": "ipython",
    "version": 3
   },
   "file_extension": ".py",
   "mimetype": "text/x-python",
   "name": "python",
   "nbconvert_exporter": "python",
   "pygments_lexer": "ipython3",
   "version": "3.8.15"
  },
  "orig_nbformat": 4,
  "vscode": {
   "interpreter": {
    "hash": "74995b7bfbb08a33e61ebab4c9cad5a5377483f782888a79e0931c9721c7b1fa"
   }
  }
 },
 "nbformat": 4,
 "nbformat_minor": 2
}
