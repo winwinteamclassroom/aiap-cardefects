{
 "cells": [
  {
   "attachments": {},
   "cell_type": "markdown",
   "metadata": {},
   "source": [
    "# Problem Statement\n",
    "## Objectives\n",
    "\n",
    "The project objective is to predict the occurrence of car failure using the provided dataset for an automotive\n",
    "company to formulate mitigative policies.The prediction is based on  3 car failure prediction models using datasets for car specification and measured by car sensors.\n",
    "\n"
   ]
  },
  {
   "cell_type": "markdown",
   "metadata": {},
   "source": [
    "## Assumptions and their verification\n",
    "\n",
    "### Factory name\n",
    "\n",
    "### RPM sensor data\n",
    "Dataset\n",
    "The dataset contains the specifications of the cars as well as parameters measured by the car sensors. Do\n",
    "note that there could be synthetic features in the dataset. Hence, please ensure that you state and verify\n",
    "any assumptions that you make.\"\"\""
   ]
  },
  {
   "cell_type": "code",
   "execution_count": 44,
   "metadata": {},
   "outputs": [
    {
     "data": {
      "text/plain": [
       "'\\nEvaluation\\nIn the submitted notebook, you are required to\\n\\nOutline the steps taken in the EDA process\\nExplain the purpose of each step\\nExplain the conclusions drawn from each step\\nExplain the interpretation of the various statistics generated and how they impact your analysis\\nGenerate clear, meaningful, and understandable visualizations that support your findings\\nOrganize the notebook so that is it clear and easy to understand\\nPlease note that your submission will be heavily penalized for any of the following conditions:\\n1. `.ipynb` missing in the submitted repository\\n2. `.ipynb` cannot be opened on Jupyter Notebook\\n3. Explanations missing or unclear in the submitted Jupyter Notebook\\n'"
      ]
     },
     "execution_count": 44,
     "metadata": {},
     "output_type": "execute_result"
    }
   ],
   "source": [
    "\"\"\"\n",
    "Evaluation\n",
    "In the submitted notebook, you are required to\n",
    "\n",
    "Outline the steps taken in the EDA process\n",
    "Explain the purpose of each step\n",
    "Explain the conclusions drawn from each step\n",
    "Explain the interpretation of the various statistics generated and how they impact your analysis\n",
    "Generate clear, meaningful, and understandable visualizations that support your findings\n",
    "Organize the notebook so that is it clear and easy to understand\n",
    "Please note that your submission will be heavily penalized for any of the following conditions:\n",
    "1. `.ipynb` missing in the submitted repository\n",
    "2. `.ipynb` cannot be opened on Jupyter Notebook\n",
    "3. Explanations missing or unclear in the submitted Jupyter Notebook\n",
    "\"\"\""
   ]
  },
  {
   "attachments": {},
   "cell_type": "markdown",
   "metadata": {},
   "source": [
    "| Attribute        | Description                                                                                                                                                                                                                                                                                                                                              |\n",
    "| ---------------- | -------------------------------------------------------------------------------------------------------------------------------------------------------------------------------------------------------------------------------------------------------------------------------------------------------------------------------------------------------- |\n",
    "| Car ID           | Car unique ID                                                                                                                                                                                                                                                                                                                                            |\n",
    "| Model            | Car model 3, 5, and 7 (in the order of increasing specifications)                                                                                                                                                                                                                                                                                        |\n",
    "| Color            | Color of the car                                                                                                                                                                                                                                                                                                                                         |\n",
    "| Temperature      | Average 30 days temperature of the car engine before failure detected                                                                                                                                                                                                                                                                                    |\n",
    "| RPM              | Average 30 days maximum torque speed at maximum torque before failure detected                                                                                                                                                                                                                                                                           |\n",
    "| Factory          | Manufacturing origin of the car                                                                                                                                                                                                                                                                                                                          |\n",
    "| Usage            | Owner usage frequency of the car                                                                                                                                                                                                                                                                                                                         |\n",
    "| Fuel consumption | Fuel consumption of the car in Litre per kilometre                                                                                                                                                                                                                                                                                                       |\n",
    "| Membership       | Type of membership subscripted by the car owner with the automotive company.<br>“Normal” membership offers subscribers two complimentary car servicing per year.<br>“Premium” membership offers subscribers unlimited car servicing.<br>Car owners are automatically subscribed with “Normal” membership<br>for the first five years after car purchase. |\n",
    "| Failure A        | A type of car failure:<br>“0” = Corresponding fault not identified,<br>“1” = Corresponding fault identified                                                                                                                                                                                                                                              |\n",
    "| Failure B        | A type of car failure:<br>“0” = Corresponding fault not identified,<br>“1” = Corresponding fault identified                                                                                                                                                                                                                                              |\n",
    "| Failure C        | A type of car failure:<br>“0” = Corresponding fault not identified,<br>“1” = Corresponding fault identified                                                                                                                                                                                                                                              |\n",
    "| Failure D        | A type of car failure:<br>“0” = Corresponding fault not identified,<br>“1” = Corresponding fault identified                                                                                                                                                                                                                                              |\n",
    "| Failure E        | A type of car failure:<br>“0” = Corresponding fault not identified,<br>“1” = Corresponding fault identified                                                                                                                                                                                                                                              |\n"
   ]
  },
  {
   "cell_type": "code",
   "execution_count": 45,
   "metadata": {},
   "outputs": [],
   "source": [
    "# import pandas as pd\n",
    "# csv_path = \"./data/failure.csv\"\n",
    "# df = pd.read_csv(csv_path)\n",
    "# df.head()"
   ]
  },
  {
   "cell_type": "code",
   "execution_count": 46,
   "metadata": {},
   "outputs": [],
   "source": [
    "import sqlite3\n",
    "import pandas as pd\n",
    "import matplotlib.pyplot as plt\n",
    "import seaborn as sns"
   ]
  },
  {
   "cell_type": "code",
   "execution_count": 47,
   "metadata": {},
   "outputs": [
    {
     "data": {
      "text/html": [
       "<div>\n",
       "<style scoped>\n",
       "    .dataframe tbody tr th:only-of-type {\n",
       "        vertical-align: middle;\n",
       "    }\n",
       "\n",
       "    .dataframe tbody tr th {\n",
       "        vertical-align: top;\n",
       "    }\n",
       "\n",
       "    .dataframe thead th {\n",
       "        text-align: right;\n",
       "    }\n",
       "</style>\n",
       "<table border=\"1\" class=\"dataframe\">\n",
       "  <thead>\n",
       "    <tr style=\"text-align: right;\">\n",
       "      <th></th>\n",
       "      <th>Car ID</th>\n",
       "      <th>Model</th>\n",
       "      <th>Color</th>\n",
       "      <th>Temperature</th>\n",
       "      <th>RPM</th>\n",
       "      <th>Factory</th>\n",
       "      <th>Usage</th>\n",
       "      <th>Fuel consumption</th>\n",
       "      <th>Membership</th>\n",
       "      <th>Failure A</th>\n",
       "      <th>Failure B</th>\n",
       "      <th>Failure C</th>\n",
       "      <th>Failure D</th>\n",
       "      <th>Failure E</th>\n",
       "    </tr>\n",
       "  </thead>\n",
       "  <tbody>\n",
       "    <tr>\n",
       "      <th>0</th>\n",
       "      <td>137b948a-c99f-4afa-a2a7-9ef65ae51e8f</td>\n",
       "      <td>Model 5, 2022</td>\n",
       "      <td>Blue</td>\n",
       "      <td>110.3 °C</td>\n",
       "      <td>1551</td>\n",
       "      <td>Shang Hai, China</td>\n",
       "      <td>Medium</td>\n",
       "      <td>659.7</td>\n",
       "      <td>Normal</td>\n",
       "      <td>0</td>\n",
       "      <td>0</td>\n",
       "      <td>0</td>\n",
       "      <td>0</td>\n",
       "      <td>0</td>\n",
       "    </tr>\n",
       "    <tr>\n",
       "      <th>1</th>\n",
       "      <td>3395a182-7e76-4fb3-94ba-5163d8f4e6b0</td>\n",
       "      <td>Model 3, 2022</td>\n",
       "      <td>Black</td>\n",
       "      <td>110.4 °C</td>\n",
       "      <td>1408</td>\n",
       "      <td>Shang Hai, China</td>\n",
       "      <td>Medium</td>\n",
       "      <td>705.3</td>\n",
       "      <td>Premium</td>\n",
       "      <td>1</td>\n",
       "      <td>0</td>\n",
       "      <td>0</td>\n",
       "      <td>0</td>\n",
       "      <td>0</td>\n",
       "    </tr>\n",
       "    <tr>\n",
       "      <th>2</th>\n",
       "      <td>8c6a8e5b-d869-4665-b739-819c9e4a2070</td>\n",
       "      <td>Model 3, 2022</td>\n",
       "      <td>Grey</td>\n",
       "      <td>110.3 °C</td>\n",
       "      <td>1498</td>\n",
       "      <td>Shang Hai, China</td>\n",
       "      <td>Low</td>\n",
       "      <td>670.7</td>\n",
       "      <td>Premium</td>\n",
       "      <td>0</td>\n",
       "      <td>0</td>\n",
       "      <td>0</td>\n",
       "      <td>0</td>\n",
       "      <td>0</td>\n",
       "    </tr>\n",
       "    <tr>\n",
       "      <th>3</th>\n",
       "      <td>ff864366-fe5e-409e-9b2f-8fe440d8cc5b</td>\n",
       "      <td>Model 3, 2022</td>\n",
       "      <td>Black</td>\n",
       "      <td>110.4 °C</td>\n",
       "      <td>1433</td>\n",
       "      <td>Berlin, Germany</td>\n",
       "      <td>High</td>\n",
       "      <td>630.6</td>\n",
       "      <td>Premium</td>\n",
       "      <td>1</td>\n",
       "      <td>0</td>\n",
       "      <td>0</td>\n",
       "      <td>0</td>\n",
       "      <td>0</td>\n",
       "    </tr>\n",
       "    <tr>\n",
       "      <th>4</th>\n",
       "      <td>10484506-1be0-4a86-8dbc-b8b2092b93b2</td>\n",
       "      <td>Model 3, 2022</td>\n",
       "      <td>White</td>\n",
       "      <td>230.7 °C</td>\n",
       "      <td>1408</td>\n",
       "      <td>New York, U.S</td>\n",
       "      <td>High</td>\n",
       "      <td>660.9</td>\n",
       "      <td>Normal</td>\n",
       "      <td>0</td>\n",
       "      <td>1</td>\n",
       "      <td>0</td>\n",
       "      <td>0</td>\n",
       "      <td>0</td>\n",
       "    </tr>\n",
       "  </tbody>\n",
       "</table>\n",
       "</div>"
      ],
      "text/plain": [
       "                                 Car ID          Model  Color Temperature  \\\n",
       "0  137b948a-c99f-4afa-a2a7-9ef65ae51e8f  Model 5, 2022   Blue    110.3 °C   \n",
       "1  3395a182-7e76-4fb3-94ba-5163d8f4e6b0  Model 3, 2022  Black    110.4 °C   \n",
       "2  8c6a8e5b-d869-4665-b739-819c9e4a2070  Model 3, 2022   Grey    110.3 °C   \n",
       "3  ff864366-fe5e-409e-9b2f-8fe440d8cc5b  Model 3, 2022  Black    110.4 °C   \n",
       "4  10484506-1be0-4a86-8dbc-b8b2092b93b2  Model 3, 2022  White    230.7 °C   \n",
       "\n",
       "    RPM           Factory   Usage  Fuel consumption Membership  Failure A  \\\n",
       "0  1551  Shang Hai, China  Medium             659.7     Normal          0   \n",
       "1  1408  Shang Hai, China  Medium             705.3    Premium          1   \n",
       "2  1498  Shang Hai, China     Low             670.7    Premium          0   \n",
       "3  1433   Berlin, Germany    High             630.6    Premium          1   \n",
       "4  1408     New York, U.S    High             660.9     Normal          0   \n",
       "\n",
       "   Failure B  Failure C  Failure D  Failure E  \n",
       "0          0          0          0          0  \n",
       "1          0          0          0          0  \n",
       "2          0          0          0          0  \n",
       "3          0          0          0          0  \n",
       "4          1          0          0          0  "
      ]
     },
     "execution_count": 47,
     "metadata": {},
     "output_type": "execute_result"
    }
   ],
   "source": [
    "\n",
    "db_path = \"data/failure.db\"\n",
    "con = sqlite3.connect(db_path)\n",
    "df = pd.read_sql_query('SELECT * from failure', con)\n",
    "df.head()"
   ]
  },
  {
   "attachments": {},
   "cell_type": "markdown",
   "metadata": {},
   "source": [
    "# Data cleaning\n",
    "## We clean rows with duplicated \"Car ID\", data with empty Membership, illogical data such as Negative RPM"
   ]
  },
  {
   "cell_type": "code",
   "execution_count": 48,
   "metadata": {},
   "outputs": [
    {
     "name": "stdout",
     "output_type": "stream",
     "text": [
      "<class 'pandas.core.frame.DataFrame'>\n",
      "RangeIndex: 10081 entries, 0 to 10080\n",
      "Data columns (total 14 columns):\n",
      " #   Column            Non-Null Count  Dtype  \n",
      "---  ------            --------------  -----  \n",
      " 0   Car ID            10081 non-null  object \n",
      " 1   Model             10081 non-null  object \n",
      " 2   Color             10081 non-null  object \n",
      " 3   Temperature       10081 non-null  object \n",
      " 4   RPM               10081 non-null  int64  \n",
      " 5   Factory           10081 non-null  object \n",
      " 6   Usage             10081 non-null  object \n",
      " 7   Fuel consumption  10081 non-null  float64\n",
      " 8   Membership        9697 non-null   object \n",
      " 9   Failure A         10081 non-null  int64  \n",
      " 10  Failure B         10081 non-null  int64  \n",
      " 11  Failure C         10081 non-null  int64  \n",
      " 12  Failure D         10081 non-null  int64  \n",
      " 13  Failure E         10081 non-null  int64  \n",
      "dtypes: float64(1), int64(6), object(7)\n",
      "memory usage: 1.1+ MB\n"
     ]
    }
   ],
   "source": [
    "df.info()"
   ]
  },
  {
   "attachments": {},
   "cell_type": "markdown",
   "metadata": {},
   "source": [
    "We notice there's some missing data in column \"Membership\". \n",
    "We will focus on that after removing duplicated rows."
   ]
  },
  {
   "attachments": {},
   "cell_type": "markdown",
   "metadata": {},
   "source": [
    "## Clean duplicated rows\n",
    "We check for duplicated rows to remove redundant data. The redundant data can lead to wrong statistical finding and low model accuracy. We found 81 rows that are duplicated and removed the respective duplicated rows."
   ]
  },
  {
   "cell_type": "code",
   "execution_count": 49,
   "metadata": {
    "tags": [
     "dupli"
    ]
   },
   "outputs": [
    {
     "data": {
      "text/plain": [
       "81"
      ]
     },
     "execution_count": 49,
     "metadata": {},
     "output_type": "execute_result"
    }
   ],
   "source": [
    "df.duplicated().sum()"
   ]
  },
  {
   "attachments": {},
   "cell_type": "markdown",
   "metadata": {},
   "source": [
    "There's 81 duplicated rows. Since the unqique index should be \"Car ID\", let's focus on duplicated rows and sort them using index \"Car ID\"."
   ]
  },
  {
   "cell_type": "code",
   "execution_count": 50,
   "metadata": {},
   "outputs": [
    {
     "data": {
      "text/html": [
       "<div>\n",
       "<style scoped>\n",
       "    .dataframe tbody tr th:only-of-type {\n",
       "        vertical-align: middle;\n",
       "    }\n",
       "\n",
       "    .dataframe tbody tr th {\n",
       "        vertical-align: top;\n",
       "    }\n",
       "\n",
       "    .dataframe thead th {\n",
       "        text-align: right;\n",
       "    }\n",
       "</style>\n",
       "<table border=\"1\" class=\"dataframe\">\n",
       "  <thead>\n",
       "    <tr style=\"text-align: right;\">\n",
       "      <th></th>\n",
       "      <th>Car ID</th>\n",
       "      <th>Model</th>\n",
       "      <th>Color</th>\n",
       "      <th>Temperature</th>\n",
       "      <th>RPM</th>\n",
       "      <th>Factory</th>\n",
       "      <th>Usage</th>\n",
       "      <th>Fuel consumption</th>\n",
       "      <th>Membership</th>\n",
       "      <th>Failure A</th>\n",
       "      <th>Failure B</th>\n",
       "      <th>Failure C</th>\n",
       "      <th>Failure D</th>\n",
       "      <th>Failure E</th>\n",
       "    </tr>\n",
       "  </thead>\n",
       "  <tbody>\n",
       "    <tr>\n",
       "      <th>10046</th>\n",
       "      <td>05fc6931-1619-4077-976e-26caf0f7ddab</td>\n",
       "      <td>Model 5, 2013</td>\n",
       "      <td>Black</td>\n",
       "      <td>231.1 °F</td>\n",
       "      <td>-1679</td>\n",
       "      <td>New York, U.S</td>\n",
       "      <td>High</td>\n",
       "      <td>697.9</td>\n",
       "      <td>Normal</td>\n",
       "      <td>0</td>\n",
       "      <td>0</td>\n",
       "      <td>0</td>\n",
       "      <td>0</td>\n",
       "      <td>0</td>\n",
       "    </tr>\n",
       "    <tr>\n",
       "      <th>66</th>\n",
       "      <td>05fc6931-1619-4077-976e-26caf0f7ddab</td>\n",
       "      <td>Model 5, 2013</td>\n",
       "      <td>Black</td>\n",
       "      <td>231.1 °F</td>\n",
       "      <td>-1679</td>\n",
       "      <td>New York, U.S</td>\n",
       "      <td>High</td>\n",
       "      <td>697.9</td>\n",
       "      <td>Normal</td>\n",
       "      <td>0</td>\n",
       "      <td>0</td>\n",
       "      <td>0</td>\n",
       "      <td>0</td>\n",
       "      <td>0</td>\n",
       "    </tr>\n",
       "    <tr>\n",
       "      <th>10078</th>\n",
       "      <td>0b9c5542-e343-4b7e-a4c9-aad358dbe993</td>\n",
       "      <td>Model 3, 2019</td>\n",
       "      <td>White</td>\n",
       "      <td>110.6 °C</td>\n",
       "      <td>1529</td>\n",
       "      <td>Shang Hai, China</td>\n",
       "      <td>Low</td>\n",
       "      <td>651.5</td>\n",
       "      <td>Normal</td>\n",
       "      <td>0</td>\n",
       "      <td>0</td>\n",
       "      <td>0</td>\n",
       "      <td>0</td>\n",
       "      <td>0</td>\n",
       "    </tr>\n",
       "    <tr>\n",
       "      <th>98</th>\n",
       "      <td>0b9c5542-e343-4b7e-a4c9-aad358dbe993</td>\n",
       "      <td>Model 3, 2019</td>\n",
       "      <td>White</td>\n",
       "      <td>110.6 °C</td>\n",
       "      <td>1529</td>\n",
       "      <td>Shang Hai, China</td>\n",
       "      <td>Low</td>\n",
       "      <td>651.5</td>\n",
       "      <td>Normal</td>\n",
       "      <td>0</td>\n",
       "      <td>0</td>\n",
       "      <td>0</td>\n",
       "      <td>0</td>\n",
       "      <td>0</td>\n",
       "    </tr>\n",
       "    <tr>\n",
       "      <th>10006</th>\n",
       "      <td>0d510f67-2238-4de0-9ac9-1e5a8e345622</td>\n",
       "      <td>Model 3, 2018</td>\n",
       "      <td>Red</td>\n",
       "      <td>110.7 °C</td>\n",
       "      <td>1512</td>\n",
       "      <td>Berlin, Germany</td>\n",
       "      <td>Low</td>\n",
       "      <td>601.2</td>\n",
       "      <td>Premium</td>\n",
       "      <td>0</td>\n",
       "      <td>0</td>\n",
       "      <td>0</td>\n",
       "      <td>0</td>\n",
       "      <td>0</td>\n",
       "    </tr>\n",
       "  </tbody>\n",
       "</table>\n",
       "</div>"
      ],
      "text/plain": [
       "                                     Car ID          Model  Color Temperature  \\\n",
       "10046  05fc6931-1619-4077-976e-26caf0f7ddab  Model 5, 2013  Black    231.1 °F   \n",
       "66     05fc6931-1619-4077-976e-26caf0f7ddab  Model 5, 2013  Black    231.1 °F   \n",
       "10078  0b9c5542-e343-4b7e-a4c9-aad358dbe993  Model 3, 2019  White    110.6 °C   \n",
       "98     0b9c5542-e343-4b7e-a4c9-aad358dbe993  Model 3, 2019  White    110.6 °C   \n",
       "10006  0d510f67-2238-4de0-9ac9-1e5a8e345622  Model 3, 2018    Red    110.7 °C   \n",
       "\n",
       "        RPM           Factory Usage  Fuel consumption Membership  Failure A  \\\n",
       "10046 -1679     New York, U.S  High             697.9     Normal          0   \n",
       "66    -1679     New York, U.S  High             697.9     Normal          0   \n",
       "10078  1529  Shang Hai, China   Low             651.5     Normal          0   \n",
       "98     1529  Shang Hai, China   Low             651.5     Normal          0   \n",
       "10006  1512   Berlin, Germany   Low             601.2    Premium          0   \n",
       "\n",
       "       Failure B  Failure C  Failure D  Failure E  \n",
       "10046          0          0          0          0  \n",
       "66             0          0          0          0  \n",
       "10078          0          0          0          0  \n",
       "98             0          0          0          0  \n",
       "10006          0          0          0          0  "
      ]
     },
     "metadata": {},
     "output_type": "display_data"
    },
    {
     "name": "stdout",
     "output_type": "stream",
     "text": [
      "num of duplicated rows 162\n"
     ]
    }
   ],
   "source": [
    "df_dup = df[df.duplicated(keep=False)].sort_values([\"Car ID\"],ascending=True)\n",
    "display(df_dup.head())\n",
    "print(f\"num of duplicated rows {len(df_dup)}\")\n",
    "# df_dup.drop_duplicates(keep=\"first\", inplace=True)\n",
    "# display(df_dup.head(2))\n",
    "# assert len(df_dup) == len(df_dup[\"Car ID\"].unique()), f'different lenght {len(df_dup)} != {len(df_dup[\"Car ID\"].unique())}'\n",
    "# display(df_dup[df.isna()]) #why still NA"
   ]
  },
  {
   "attachments": {},
   "cell_type": "markdown",
   "metadata": {},
   "source": [
    "We found that \"Car ID\" \"05fc6931-1619-4077-976e-26caf0f7ddab\" appears twice. We will keep its first appearance and delete its duplicated rows. The same applied for other duplicated \"Car ID\""
   ]
  },
  {
   "cell_type": "code",
   "execution_count": 51,
   "metadata": {},
   "outputs": [
    {
     "name": "stdout",
     "output_type": "stream",
     "text": [
      "Before removing duplicated rows, num of record with Car ID 05fc6931-1619-4077-976e-26caf0f7ddab: 2\n",
      "After removing duplicated rows, num of record with Car ID 05fc6931-1619-4077-976e-26caf0f7ddab: 1\n",
      "There's 0 dupllicated rows left\n"
     ]
    }
   ],
   "source": [
    "car_id = \"05fc6931-1619-4077-976e-26caf0f7ddab\"\n",
    "print(f\"Before removing duplicated rows, num of record with Car ID {car_id}: {len(df[df['Car ID']==car_id])}\")\n",
    "df.drop_duplicates(keep=\"first\", inplace=True)\n",
    "print(f\"After removing duplicated rows, num of record with Car ID {car_id}: {len(df[df['Car ID']==car_id])}\")\n",
    "df_dup = df[df.duplicated(keep=False)].sort_values([\"Car ID\"])\n",
    "print(f\"There's {len(df_dup)} dupllicated rows left\")"
   ]
  },
  {
   "cell_type": "markdown",
   "metadata": {},
   "source": [
    "## Check empty data"
   ]
  },
  {
   "cell_type": "code",
   "execution_count": 52,
   "metadata": {},
   "outputs": [
    {
     "name": "stdout",
     "output_type": "stream",
     "text": [
      "num of empyt cell \n",
      " Car ID                0\n",
      "Model                 0\n",
      "Color                 0\n",
      "Temperature           0\n",
      "RPM                   0\n",
      "Factory               0\n",
      "Usage                 0\n",
      "Fuel consumption      0\n",
      "Membership          383\n",
      "Failure A             0\n",
      "Failure B             0\n",
      "Failure C             0\n",
      "Failure D             0\n",
      "Failure E             0\n",
      "dtype: int64\n"
     ]
    }
   ],
   "source": [
    "print(f\"num of empyt cell \\n {df.isna().sum()}\")"
   ]
  },
  {
   "cell_type": "code",
   "execution_count": 53,
   "metadata": {},
   "outputs": [
    {
     "data": {
      "text/plain": [
       "<AxesSubplot: >"
      ]
     },
     "execution_count": 53,
     "metadata": {},
     "output_type": "execute_result"
    },
    {
     "data": {
      "image/png": "[encoded data removed]",
      "text/plain": [
       "<Figure size 2500x1000 with 2 Axes>"
      ]
     },
     "metadata": {},
     "output_type": "display_data"
    }
   ],
   "source": [
    "import missingno\n",
    "missingno.matrix(df)"
   ]
  },
  {
   "cell_type": "code",
   "execution_count": 54,
   "metadata": {},
   "outputs": [
    {
     "data": {
      "text/plain": [
       "<AxesSubplot: >"
      ]
     },
     "execution_count": 54,
     "metadata": {},
     "output_type": "execute_result"
    },
    {
     "data": {
      "image/png": "[encoded data removed]",
      "text/plain": [
       "<Figure size 2500x1000 with 2 Axes>"
      ]
     },
     "metadata": {},
     "output_type": "display_data"
    }
   ],
   "source": [
    "failure_list = [\"Failure A\",\"Failure B\", \"Failure C\",\"Failure D\",\"Failure E\"]\n",
    "df[\"Total_fail\"] = df[failure_list].aggregate(\"sum\", axis=1)\n",
    "missingno.matrix(df.sort_values([\"Total_fail\"]))"
   ]
  },
  {
   "cell_type": "code",
   "execution_count": 55,
   "metadata": {},
   "outputs": [
    {
     "data": {
      "text/html": [
       "<div>\n",
       "<style scoped>\n",
       "    .dataframe tbody tr th:only-of-type {\n",
       "        vertical-align: middle;\n",
       "    }\n",
       "\n",
       "    .dataframe tbody tr th {\n",
       "        vertical-align: top;\n",
       "    }\n",
       "\n",
       "    .dataframe thead th {\n",
       "        text-align: right;\n",
       "    }\n",
       "</style>\n",
       "<table border=\"1\" class=\"dataframe\">\n",
       "  <thead>\n",
       "    <tr style=\"text-align: right;\">\n",
       "      <th></th>\n",
       "      <th>Car ID</th>\n",
       "      <th>Model</th>\n",
       "      <th>Color</th>\n",
       "      <th>Temperature</th>\n",
       "      <th>RPM</th>\n",
       "      <th>Factory</th>\n",
       "      <th>Usage</th>\n",
       "      <th>Fuel consumption</th>\n",
       "      <th>Membership</th>\n",
       "      <th>Failure A</th>\n",
       "      <th>Failure B</th>\n",
       "      <th>Failure C</th>\n",
       "      <th>Failure D</th>\n",
       "      <th>Failure E</th>\n",
       "      <th>Total_fail</th>\n",
       "    </tr>\n",
       "  </thead>\n",
       "  <tbody>\n",
       "    <tr>\n",
       "      <th>1387</th>\n",
       "      <td>8eccda36-9735-4c0c-8d41-768a0c9cabc9</td>\n",
       "      <td>Model 3, 2015</td>\n",
       "      <td>White</td>\n",
       "      <td>110.6 °C</td>\n",
       "      <td>1823</td>\n",
       "      <td>Shang Hai, China</td>\n",
       "      <td>High</td>\n",
       "      <td>703.2</td>\n",
       "      <td>None</td>\n",
       "      <td>0</td>\n",
       "      <td>0</td>\n",
       "      <td>0</td>\n",
       "      <td>0</td>\n",
       "      <td>1</td>\n",
       "      <td>1</td>\n",
       "    </tr>\n",
       "    <tr>\n",
       "      <th>8442</th>\n",
       "      <td>99e917c1-8cd8-43d3-850c-8bcc94e391fd</td>\n",
       "      <td>Model 3, 2022</td>\n",
       "      <td>Red</td>\n",
       "      <td>110.5 °C</td>\n",
       "      <td>1517</td>\n",
       "      <td>Shang Hai, China</td>\n",
       "      <td>Low</td>\n",
       "      <td>625.6</td>\n",
       "      <td>Normal</td>\n",
       "      <td>0</td>\n",
       "      <td>0</td>\n",
       "      <td>0</td>\n",
       "      <td>0</td>\n",
       "      <td>1</td>\n",
       "      <td>1</td>\n",
       "    </tr>\n",
       "    <tr>\n",
       "      <th>1391</th>\n",
       "      <td>a431d443-c561-49c3-8cab-88312880ec3e</td>\n",
       "      <td>Model 3, 2015</td>\n",
       "      <td>Red</td>\n",
       "      <td>231.1 °F</td>\n",
       "      <td>2737</td>\n",
       "      <td>New York, U.S</td>\n",
       "      <td>Low</td>\n",
       "      <td>604.2</td>\n",
       "      <td>None</td>\n",
       "      <td>0</td>\n",
       "      <td>0</td>\n",
       "      <td>0</td>\n",
       "      <td>0</td>\n",
       "      <td>1</td>\n",
       "      <td>1</td>\n",
       "    </tr>\n",
       "    <tr>\n",
       "      <th>1335</th>\n",
       "      <td>150922c0-e35a-4ffb-8049-4b66d95701e5</td>\n",
       "      <td>Model 3, 2011</td>\n",
       "      <td>Black</td>\n",
       "      <td>110.6 °C</td>\n",
       "      <td>1371</td>\n",
       "      <td>Shang Hai, China</td>\n",
       "      <td>Low</td>\n",
       "      <td>687.9</td>\n",
       "      <td>None</td>\n",
       "      <td>1</td>\n",
       "      <td>0</td>\n",
       "      <td>0</td>\n",
       "      <td>0</td>\n",
       "      <td>0</td>\n",
       "      <td>1</td>\n",
       "    </tr>\n",
       "    <tr>\n",
       "      <th>7342</th>\n",
       "      <td>ee65ef2c-9dbb-4727-86e4-11d786ce8e37</td>\n",
       "      <td>Model 5, 2022</td>\n",
       "      <td>White</td>\n",
       "      <td>111.0 °C</td>\n",
       "      <td>1661</td>\n",
       "      <td>Shang Hai, China</td>\n",
       "      <td>Low</td>\n",
       "      <td>647.4</td>\n",
       "      <td>None</td>\n",
       "      <td>0</td>\n",
       "      <td>0</td>\n",
       "      <td>1</td>\n",
       "      <td>0</td>\n",
       "      <td>0</td>\n",
       "      <td>1</td>\n",
       "    </tr>\n",
       "  </tbody>\n",
       "</table>\n",
       "</div>"
      ],
      "text/plain": [
       "                                    Car ID          Model  Color Temperature  \\\n",
       "1387  8eccda36-9735-4c0c-8d41-768a0c9cabc9  Model 3, 2015  White    110.6 °C   \n",
       "8442  99e917c1-8cd8-43d3-850c-8bcc94e391fd  Model 3, 2022    Red    110.5 °C   \n",
       "1391  a431d443-c561-49c3-8cab-88312880ec3e  Model 3, 2015    Red    231.1 °F   \n",
       "1335  150922c0-e35a-4ffb-8049-4b66d95701e5  Model 3, 2011  Black    110.6 °C   \n",
       "7342  ee65ef2c-9dbb-4727-86e4-11d786ce8e37  Model 5, 2022  White    111.0 °C   \n",
       "\n",
       "       RPM           Factory Usage  Fuel consumption Membership  Failure A  \\\n",
       "1387  1823  Shang Hai, China  High             703.2       None          0   \n",
       "8442  1517  Shang Hai, China   Low             625.6     Normal          0   \n",
       "1391  2737     New York, U.S   Low             604.2       None          0   \n",
       "1335  1371  Shang Hai, China   Low             687.9       None          1   \n",
       "7342  1661  Shang Hai, China   Low             647.4       None          0   \n",
       "\n",
       "      Failure B  Failure C  Failure D  Failure E  Total_fail  \n",
       "1387          0          0          0          1           1  \n",
       "8442          0          0          0          1           1  \n",
       "1391          0          0          0          1           1  \n",
       "1335          0          0          0          0           1  \n",
       "7342          0          1          0          0           1  "
      ]
     },
     "execution_count": 55,
     "metadata": {},
     "output_type": "execute_result"
    }
   ],
   "source": [
    "df.sort_values([\"Total_fail\"]).tail()"
   ]
  },
  {
   "cell_type": "code",
   "execution_count": 56,
   "metadata": {},
   "outputs": [
    {
     "data": {
      "text/plain": [
       "Car ID              0\n",
       "Model               0\n",
       "Color               0\n",
       "Temperature         0\n",
       "RPM                 0\n",
       "Factory             0\n",
       "Usage               0\n",
       "Fuel consumption    0\n",
       "Membership          0\n",
       "Failure A           0\n",
       "Failure B           0\n",
       "Failure C           0\n",
       "Failure D           0\n",
       "Failure E           0\n",
       "Total_fail          0\n",
       "dtype: int64"
      ]
     },
     "execution_count": 56,
     "metadata": {},
     "output_type": "execute_result"
    }
   ],
   "source": [
    "df.fillna(\"empty\", inplace=True)\n",
    "df.isna().sum()"
   ]
  },
  {
   "cell_type": "code",
   "execution_count": null,
   "metadata": {},
   "outputs": [],
   "source": []
  },
  {
   "cell_type": "code",
   "execution_count": 57,
   "metadata": {},
   "outputs": [
    {
     "name": "stdout",
     "output_type": "stream",
     "text": [
      "White    5568\n",
      "Red      1159\n",
      "Blue     1129\n",
      "Grey     1086\n",
      "Black    1058\n",
      "Name: Color, dtype: int64\n"
     ]
    },
    {
     "data": {
      "image/png": "[encoded data removed]",
      "text/plain": [
       "<Figure size 640x480 with 1 Axes>"
      ]
     },
     "metadata": {},
     "output_type": "display_data"
    },
    {
     "name": "stdout",
     "output_type": "stream",
     "text": [
      "Shang Hai, China    5478\n",
      "Berlin, Germany     2215\n",
      "New York, U.S       2127\n",
      "Seng Kang, China     106\n",
      "Newton, China         44\n",
      "Bedok, Germany        30\n",
      "Name: Factory, dtype: int64\n"
     ]
    },
    {
     "data": {
      "image/png": "[encoded data removed]",
      "text/plain": [
       "<Figure size 640x480 with 1 Axes>"
      ]
     },
     "metadata": {},
     "output_type": "display_data"
    },
    {
     "name": "stdout",
     "output_type": "stream",
     "text": [
      "High      3527\n",
      "Medium    3335\n",
      "Low       3138\n",
      "Name: Usage, dtype: int64\n"
     ]
    },
    {
     "data": {
      "image/png": "[encoded data removed]",
      "text/plain": [
       "<Figure size 640x480 with 1 Axes>"
      ]
     },
     "metadata": {},
     "output_type": "display_data"
    },
    {
     "name": "stdout",
     "output_type": "stream",
     "text": [
      "Normal     4483\n",
      "Premium    3416\n",
      "None       1718\n",
      "empty       383\n",
      "Name: Membership, dtype: int64\n"
     ]
    },
    {
     "data": {
      "image/png": "[encoded data removed]",
      "text/plain": [
       "<Figure size 640x480 with 1 Axes>"
      ]
     },
     "metadata": {},
     "output_type": "display_data"
    }
   ],
   "source": [
    "for col in df.drop(columns=[\"Car ID\",\"Temperature\", \"Model\"]).columns:    \n",
    "    if type(df[col][0]) == str:\n",
    "        print(df[col].value_counts())\n",
    "        plt.hist(df[col].value_counts())\n",
    "        plt.show()"
   ]
  },
  {
   "cell_type": "code",
   "execution_count": 58,
   "metadata": {},
   "outputs": [
    {
     "ename": "NameError",
     "evalue": "name 'cat2num_dict' is not defined",
     "output_type": "error",
     "traceback": [
      "\u001b[0;31m---------------------------------------------------------------------------\u001b[0m",
      "\u001b[0;31mNameError\u001b[0m                                 Traceback (most recent call last)",
      "Cell \u001b[0;32mIn[58], line 1\u001b[0m\n\u001b[0;32m----> 1\u001b[0m \u001b[39mfor\u001b[39;00m k,v \u001b[39min\u001b[39;00m cat2num_dict\u001b[39m.\u001b[39mitems():\n\u001b[1;32m      2\u001b[0m     \u001b[39mprint\u001b[39m(k,v)\n\u001b[1;32m      3\u001b[0m df_total_fail[df_total_fail[\u001b[39m\"\u001b[39m\u001b[39mTotal_fail\u001b[39m\u001b[39m\"\u001b[39m]\u001b[39m>\u001b[39m\u001b[39m0\u001b[39m][[\u001b[39m\"\u001b[39m\u001b[39mFac_ctry_num\u001b[39m\u001b[39m\"\u001b[39m,\u001b[39m\"\u001b[39m\u001b[39mFac_city_num\u001b[39m\u001b[39m\"\u001b[39m]]\u001b[39m.\u001b[39mplot\u001b[39m.\u001b[39mhist()\n",
      "\u001b[0;31mNameError\u001b[0m: name 'cat2num_dict' is not defined"
     ]
    }
   ],
   "source": [
    "for k,v in cat2num_dict.items():\n",
    "    print(k,v)\n",
    "df_total_fail[df_total_fail[\"Total_fail\"]>0][[\"Fac_ctry_num\",\"Fac_city_num\"]].plot.hist()\n"
   ]
  },
  {
   "cell_type": "code",
   "execution_count": null,
   "metadata": {},
   "outputs": [],
   "source": [
    "for k,v in cat2num_dict.items():\n",
    "    if \"Fac\" in k:\n",
    "        print(k,v)\n",
    "df1 = df_total_fail[[\"Fac_ctry_num\", \"Fac_city_num\",\"Total_fail\"]]\n",
    "df1.head()\n",
    "sns.pairplot(df1\n",
    ",hue=\"Total_fail\"\n",
    ")"
   ]
  },
  {
   "attachments": {},
   "cell_type": "markdown",
   "metadata": {},
   "source": [
    "## Drop rows with invalid Factory location\n"
   ]
  },
  {
   "cell_type": "code",
   "execution_count": null,
   "metadata": {},
   "outputs": [],
   "source": [
    "print(df[[\"Factory\"]].value_counts())\n",
    "wrong_city = [\"Seng Kang, China\", \"Newton, China\", \"Bedok, Germany\"]\n",
    "for city in wrong_city:\n",
    "    print(city)\n",
    "    df = df[df.Factory.str.match(city)==False]\n",
    "    print(df[\"Factory\"].value_counts())\n",
    "    print(\"-\"*10)"
   ]
  },
  {
   "cell_type": "markdown",
   "metadata": {
    "tags": [
     "parameters"
    ]
   },
   "source": [
    "## Convert categorical data to numeric data"
   ]
  },
  {
   "cell_type": "code",
   "execution_count": null,
   "metadata": {},
   "outputs": [],
   "source": [
    "df[\"Mod_yy\"]=df.Model.apply(lambda x:int(x.split(\",\")[-1][-2:]))\n",
    "df[\"Mod_num\"]=df.Model.apply(lambda x: int(x.split(\",\")[0][-1]))\n",
    "df[\"Fac_ctry\"]=df.Factory.apply(lambda x:x.split(\",\")[-1])\n",
    "df[\"Fac_city\"]=df.Factory.apply(lambda x:x.split(\",\")[0])\n",
    "df[\"Tem_celc\"]=df.Temperature.apply(lambda x: float(x.split(\" \")[0]) if x.split(\" \")[-1]==\"°C\" else (float(x.split(\" \")[0]) - 32)*(5/9))\n",
    "\n",
    "#  float(x) if x.split(\" \")[-1]==\"°C\" else (float(x)-32)*(5/9))\n",
    "display(df.head())   \n",
    "\n",
    "# 0°C + 273.15 = 273.15K\n",
    "# (32°F − 32) × 5/9 \n"
   ]
  },
  {
   "cell_type": "code",
   "execution_count": null,
   "metadata": {},
   "outputs": [],
   "source": [
    "df[df.Fac_city==\"Seng Kang\"].head()"
   ]
  },
  {
   "cell_type": "code",
   "execution_count": null,
   "metadata": {},
   "outputs": [],
   "source": [
    "print(df[df.Fac_city==\"Bedok\"][\"Fac_ctry\"].unique())\n",
    "print(df[df.Fac_city==\"Seng Kang\"][\"Fac_ctry\"].unique())"
   ]
  },
  {
   "cell_type": "code",
   "execution_count": null,
   "metadata": {},
   "outputs": [],
   "source": [
    "cat_col = [\"Color\",\t\"Fac_ctry\", \"Fac_city\"]\n",
    "cat2num_dict = {}\n",
    "for i, col in enumerate(cat_col):\n",
    "    cat2num_dict[col] = sorted(list(df[col].unique()))\n",
    "\n",
    "cat2num_dict[\"Usage\"] = ['Low', 'Medium', 'High'] #incremental\n",
    "cat2num_dict[\"Membership\"] = ['Premium', 'Normal', 'None', 'empty']\n",
    "print(cat2num_dict)\n",
    "print(cat2num_dict[\"Color\"].index(\"Blue\")) \n",
    "print(cat2num_dict[\"Usage\"].index(\"High\"))\n"
   ]
  },
  {
   "cell_type": "code",
   "execution_count": null,
   "metadata": {},
   "outputs": [],
   "source": [
    "for col, cat in cat2num_dict.items():\n",
    "    df[col+\"_num\"] = df[col].apply(lambda x: cat.index(x))\n",
    "\n",
    "df.head()\n",
    "\n",
    "# df.rename(columns={\"Membership_num\":\"Mem_num\"}).head()\n",
    "\n",
    "# assert \"Membership_num\" in df.columns\n",
    "# df.head()"
   ]
  },
  {
   "cell_type": "code",
   "execution_count": null,
   "metadata": {},
   "outputs": [],
   "source": [
    "df.describe()"
   ]
  },
  {
   "cell_type": "code",
   "execution_count": null,
   "metadata": {},
   "outputs": [],
   "source": [
    "feature_drop = ['Failure A', 'Failure B', 'Failure C', 'Failure D', 'Failure E']\n",
    "df_total_fail = df.drop(columns=feature_drop)\n",
    "df_total_fail.head()\n"
   ]
  },
  {
   "cell_type": "code",
   "execution_count": null,
   "metadata": {},
   "outputs": [],
   "source": [
    "sns.pairplot(df_total_fail, hue=\"Total_fail\")\n",
    "sns.set(font_scale=1)\n",
    "plt.tight_layout()"
   ]
  },
  {
   "cell_type": "code",
   "execution_count": null,
   "metadata": {},
   "outputs": [],
   "source": [
    "df[\"RPM_abs\"] = df.RPM.apply(lambda x: abs(x))\n",
    "feature_drop = ['Failure A', 'Failure B', 'Failure C', 'Failure D', 'Failure E', \"RPM\"]\n",
    "df_total_fail = df.drop(columns=feature_drop)\n",
    "sns.pairplot(df_total_fail,hue=\"Total_fail\")\n",
    "sns.set(font_scale=1)"
   ]
  },
  {
   "attachments": {},
   "cell_type": "markdown",
   "metadata": {},
   "source": [
    "# Financial objective:\n",
    "Automotive company mitigation policies to reduce occurance of car failures\n",
    "\n",
    "Data science objective:\n",
    "accurate model to predict occurance\n",
    "propose service routine, minimize cost, minize car failure\n",
    "\n",
    "failure \n",
    "\n"
   ]
  },
  {
   "cell_type": "code",
   "execution_count": 59,
   "metadata": {},
   "outputs": [
    {
     "ename": "NameError",
     "evalue": "name 'df_total_fail' is not defined",
     "output_type": "error",
     "traceback": [
      "\u001b[0;31m---------------------------------------------------------------------------\u001b[0m",
      "\u001b[0;31mNameError\u001b[0m                                 Traceback (most recent call last)",
      "Cell \u001b[0;32mIn[59], line 1\u001b[0m\n\u001b[0;32m----> 1\u001b[0m \u001b[39mfor\u001b[39;00m col \u001b[39min\u001b[39;00m df_total_fail\u001b[39m.\u001b[39mdrop(columns\u001b[39m=\u001b[39m[\u001b[39m\"\u001b[39m\u001b[39mCar ID\u001b[39m\u001b[39m\"\u001b[39m])\u001b[39m.\u001b[39mcolumns:\n\u001b[1;32m      2\u001b[0m     \u001b[39mprint\u001b[39m(\u001b[39mf\u001b[39m\u001b[39m\"\u001b[39m\u001b[39mcol \u001b[39m\u001b[39m{\u001b[39;00mcol\u001b[39m}\u001b[39;00m\u001b[39m\"\u001b[39m)\n\u001b[1;32m      3\u001b[0m     \u001b[39mif\u001b[39;00m (\u001b[39mtype\u001b[39m(df_total_fail[col][\u001b[39m0\u001b[39m])\u001b[39m==\u001b[39m\u001b[39mstr\u001b[39m) \u001b[39m==\u001b[39m \u001b[39mFalse\u001b[39;00m:\n",
      "\u001b[0;31mNameError\u001b[0m: name 'df_total_fail' is not defined"
     ]
    }
   ],
   "source": [
    "for col in df_total_fail.drop(columns=[\"Car ID\"]).columns:\n",
    "    print(f\"col {col}\")\n",
    "    if (type(df_total_fail[col][0])==str) == False:\n",
    "        _, ax = plt.subplots(1,2)\n",
    "        plt.axes(ax[0])\n",
    "        df_total_fail[col].plot.box()\n",
    "        plt.title(col)\n",
    "\n",
    "        plt.axes(ax[1])\n",
    "        df_total_fail[col].plot.hist()\n",
    "        plt.title(col)\n",
    "        plt.show()\n"
   ]
  },
  {
   "cell_type": "code",
   "execution_count": null,
   "metadata": {},
   "outputs": [],
   "source": [
    "# Visualization"
   ]
  },
  {
   "attachments": {},
   "cell_type": "markdown",
   "metadata": {},
   "source": [
    "# Load SQl database as dataframe\n",
    "## todo"
   ]
  },
  {
   "cell_type": "code",
   "execution_count": null,
   "metadata": {},
   "outputs": [],
   "source": [
    "import sqlalchemy as sqla\n",
    "import pandas as pd\n",
    "from sqlalchemy.ext.declarative import declarative_base\n",
    "from sqlalchemy import inspect\n",
    "\n",
    "engine = sqla.create_engine(f\"sqlite://{db_path}\")\n",
    "\n"
   ]
  },
  {
   "cell_type": "code",
   "execution_count": null,
   "metadata": {},
   "outputs": [],
   "source": [
    "print(engine)"
   ]
  },
  {
   "cell_type": "code",
   "execution_count": null,
   "metadata": {},
   "outputs": [],
   "source": [
    "from sqlalchemy.exc import SQLAlchemyError\n",
    "try:\n",
    "    engine.connect()\n",
    "    print(\"success\")\n",
    "except SQLAlchemyError as err:\n",
    "    print(\"error\", err.__cause__)  # this will give what kind of error"
   ]
  },
  {
   "cell_type": "code",
   "execution_count": null,
   "metadata": {},
   "outputs": [],
   "source": [
    "Base = declarative_base()\n"
   ]
  },
  {
   "cell_type": "code",
   "execution_count": null,
   "metadata": {},
   "outputs": [],
   "source": [
    "connectable = engine.connect()"
   ]
  },
  {
   "cell_type": "code",
   "execution_count": null,
   "metadata": {},
   "outputs": [],
   "source": [
    "insp = inspect(engine)"
   ]
  },
  {
   "cell_type": "code",
   "execution_count": null,
   "metadata": {},
   "outputs": [],
   "source": [
    "engine.table_names()\n",
    "engine.name\n",
    "# inspector = sqla.inspect(engine)"
   ]
  },
  {
   "cell_type": "code",
   "execution_count": null,
   "metadata": {},
   "outputs": [],
   "source": [
    "from flask_sqlalchemy import SQLAlchemy\n",
    "import pymysql\n",
    "import pandas as pd\n",
    "\n",
    "import sqlite3\n"
   ]
  },
  {
   "cell_type": "code",
   "execution_count": null,
   "metadata": {},
   "outputs": [],
   "source": [
    "sql_path = \"src/data/failure.db\"\n",
    "con = sqlite3.connect(sql_path)\n",
    "db = pd.read_sql(sql_path, con)"
   ]
  },
  {
   "cell_type": "code",
   "execution_count": null,
   "metadata": {},
   "outputs": [],
   "source": [
    "\"\"\"\n",
    "Evaluation\n",
    "In the submitted notebook, you are required to\n",
    "\n",
    "Outline the steps taken in the EDA process\n",
    "Explain the purpose of each step\n",
    "Explain the conclusions drawn from each step\n",
    "Explain the interpretation of the various statistics generated and how they impact your analysis\n",
    "Generate clear, meaningful, and understandable visualizations that support your findings\n",
    "Organize the notebook so that is it clear and easy to understand\n",
    "Please note that your submission will be heavily penalized for any of the following conditions:\n",
    "1. `.ipynb` missing in the submitted repository\n",
    "2. `.ipynb` cannot be opened on Jupyter Notebook\n",
    "3. Explanations missing or unclear in the submitted Jupyter Notebook\n",
    "\"\"\""
   ]
  }
 ],
 "metadata": {
  "kernelspec": {
   "display_name": "py38-aiap",
   "language": "python",
   "name": "python3"
  },
  "language_info": {
   "codemirror_mode": {
    "name": "ipython",
    "version": 3
   },
   "file_extension": ".py",
   "mimetype": "text/x-python",
   "name": "python",
   "nbconvert_exporter": "python",
   "pygments_lexer": "ipython3",
   "version": "3.8.15"
  },
  "orig_nbformat": 4,
  "vscode": {
   "interpreter": {
    "hash": "74995b7bfbb08a33e61ebab4c9cad5a5377483f782888a79e0931c9721c7b1fa"
   }
  }
 },
 "nbformat": 4,
 "nbformat_minor": 2
}
